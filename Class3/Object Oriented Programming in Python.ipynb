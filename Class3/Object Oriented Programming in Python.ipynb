{
 "cells": [
  {
   "cell_type": "markdown",
   "metadata": {},
   "source": [
    "# VGP245 - Python Class 3"
   ]
  },
  {
   "cell_type": "markdown",
   "metadata": {},
   "source": [
    "## Working with Object Oriented Classes\n"
   ]
  },
  {
   "cell_type": "code",
   "execution_count": 1,
   "metadata": {},
   "outputs": [
    {
     "name": "stdout",
     "output_type": "stream",
     "text": [
      "Hadouken\n",
      "pow!\n"
     ]
    }
   ],
   "source": [
    "class Fighter:\n",
    "    name = 'Ken'\n",
    "    def attack(self):\n",
    "        print(\"Hadouken\")\n",
    "    def punch():\n",
    "        print(\"pow!\")\n",
    "    \n",
    "player1 = Fighter()\n",
    "player1.name\n",
    "player1.attack()\n",
    "Fighter.punch()"
   ]
  },
  {
   "cell_type": "markdown",
   "metadata": {},
   "source": [
    "The first paramenter in the first function of the class will always have the reference to the object itself (hence, self)"
   ]
  },
  {
   "cell_type": "code",
   "execution_count": 2,
   "metadata": {},
   "outputs": [
    {
     "name": "stdout",
     "output_type": "stream",
     "text": [
      "Hello, my name is Gil\n"
     ]
    }
   ],
   "source": [
    "class Person:\n",
    "    def __init__(self, name, age, fighter_class):\n",
    "        self.name = name\n",
    "        self.age = age\n",
    "        self.fighter_class = fighter_class\n",
    "    def greet(self):\n",
    "        print(f'Hello, my name is {self.name}')\n",
    "        \n",
    "p1 = Person('Gil', 35, 'Barbarian')\n",
    "p1.greet()"
   ]
  },
  {
   "cell_type": "code",
   "execution_count": 3,
   "metadata": {},
   "outputs": [],
   "source": [
    "del(p1.fighter_class)"
   ]
  },
  {
   "cell_type": "markdown",
   "metadata": {},
   "source": [
    "## Inheritance\n"
   ]
  },
  {
   "cell_type": "markdown",
   "metadata": {},
   "source": [
    "Inheritance is the property to pass into subclasses the functions and variables from the parent class."
   ]
  },
  {
   "cell_type": "code",
   "execution_count": 7,
   "metadata": {},
   "outputs": [],
   "source": [
    "class Employee(Person):  # This is the syntax for the inherited class\n",
    "    def __init__(self, name, age, fighter_class, employeeId):\n",
    "        super().__init__(name, age, fighter_class)\n",
    "        self.employeeId = employeeId\n",
    "        \n",
    "    def greet(self):\n",
    "        super().greet()\n",
    "        print(\"Greetings! I'm {self.name}, and my employee number is {self.employeeID}\")\n",
    "        "
   ]
  },
  {
   "cell_type": "markdown",
   "metadata": {},
   "source": [
    "To overwrite a parent's class function, we need to use super().\"name_of_fucntion\"():\n",
    "Also, the new function def needs the parameter (self) to work."
   ]
  },
  {
   "cell_type": "code",
   "execution_count": 5,
   "metadata": {},
   "outputs": [
    {
     "name": "stdout",
     "output_type": "stream",
     "text": [
      "Gil\n",
      "35\n",
      "Archer\n",
      "7017820\n"
     ]
    }
   ],
   "source": [
    "emp1 = Employee(\"Gil\", 35, \"Archer\", 7017820)\n",
    "print(emp1.name)\n",
    "print(emp1.age)\n",
    "print(emp1.fighter_class)\n",
    "print(emp1.employeeId)\n"
   ]
  },
  {
   "cell_type": "code",
   "execution_count": 8,
   "metadata": {},
   "outputs": [
    {
     "name": "stdout",
     "output_type": "stream",
     "text": [
      "Gil\n",
      "35\n",
      "Archer\n",
      "7017820\n",
      "Hello, my name is Gil\n",
      "Greetings! I'm {self.name}, and my employee number is {self.employeeID}\n"
     ]
    }
   ],
   "source": [
    "emp2 = Employee(\"Gil\", 35, \"Archer\", 7017820)\n",
    "print(emp2.name)\n",
    "print(emp2.age)\n",
    "print(emp2.fighter_class)\n",
    "print(emp2.employeeId)\n",
    "emp2.greet()"
   ]
  },
  {
   "cell_type": "code",
   "execution_count": 9,
   "metadata": {},
   "outputs": [],
   "source": [
    "class Account:\n",
    "    def __init__(self, balance:int, owner:str):\n",
    "        self.balance = balance\n",
    "        self.owner = owner\n",
    "    \n",
    "    def deposit(self, amount:int) -> int:\n",
    "        self.balance += amount\n",
    "        return self.balance\n",
    "    \n",
    "    def withdraw(seld, amount:int) -> int:\n",
    "        self.balance -= amount\n",
    "        return self.balance\n"
   ]
  },
  {
   "cell_type": "code",
   "execution_count": 10,
   "metadata": {},
   "outputs": [
    {
     "name": "stdout",
     "output_type": "stream",
     "text": [
      "10450\n"
     ]
    }
   ],
   "source": [
    "myAccount = Account(10450, 'Guilherme')\n",
    "\n",
    "print(myAccount.balance)\n"
   ]
  },
  {
   "cell_type": "code",
   "execution_count": null,
   "metadata": {},
   "outputs": [],
   "source": []
  }
 ],
 "metadata": {
  "kernelspec": {
   "display_name": "Python 3",
   "language": "python",
   "name": "python3"
  },
  "language_info": {
   "codemirror_mode": {
    "name": "ipython",
    "version": 3
   },
   "file_extension": ".py",
   "mimetype": "text/x-python",
   "name": "python",
   "nbconvert_exporter": "python",
   "pygments_lexer": "ipython3",
   "version": "3.7.0"
  }
 },
 "nbformat": 4,
 "nbformat_minor": 2
}
