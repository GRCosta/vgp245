{
 "cells": [
  {
   "cell_type": "markdown",
   "metadata": {},
   "source": [
    "# Assignment 4\n",
    "\n",
    "### Question 1.\n",
    "part 1. Using open, and write.  \n",
    "a. Create a dictionary with the following:  \n",
    "Sport name and the number of players save it to a file.  \n",
    "\n",
    "sports = { 'basketball': 10, ... }  \n",
    " \n",
    "Save it to a text file, and load the file and print it on the screen.  \n",
    "\n",
    "part 2. Using Pickle save the dictionary into a binary file and load and print it out  \n",
    "  \n",
    "part 3. Repeat the same steps using Shelve.  \n",
    "  \n",
    "part 4. Repeat the same steps using Json.  "
   ]
  },
  {
   "cell_type": "code",
   "execution_count": 1,
   "metadata": {},
   "outputs": [],
   "source": [
    "# Part 1: Create a dictionary for a Sport team\n",
    "\n",
    "f = open('mySportsTeam.txt', 'w')\n",
    "f.write(\"Sport: Football [NFL]\\n\")\n",
    "f.write(\"Team Name: New Orleans Saints\\n\")\n",
    "f.write(\"Number of Players: 11\\n\")\n",
    "f.write(\"\\n\")\n",
    "f.write(\"\\n\")\n",
    "\n",
    "f.close()\n",
    "    "
   ]
  },
  {
   "cell_type": "code",
   "execution_count": 2,
   "metadata": {},
   "outputs": [
    {
     "data": {
      "text/plain": [
       "'<__main__.football_player object at 0x0000020540174390>\\n<__main__.football_player object at 0x00000205401A0D68>\\n<__main__.football_player object at 0x00000205401A0D30>\\n<__main__.football_player object at 0x00000205401A0DA0>\\n<__main__.football_player object at 0x00000205401A0DD8>\\n<__main__.football_player object at 0x00000205401A0E10>\\n<__main__.football_player object at 0x00000205401A0E48>\\n<__main__.football_player object at 0x00000205401A0E80>\\n<__main__.football_player object at 0x00000205401A0EB8>\\n<__main__.football_player object at 0x00000205401A0EF0>\\n<__main__.football_player object at 0x00000205401A0F28>\\n'"
      ]
     },
     "execution_count": 2,
     "metadata": {},
     "output_type": "execute_result"
    }
   ],
   "source": [
    "f = open('mySportsTeam.txt', 'w')\n",
    "\n",
    "# Adding 11 players\n",
    "class football_player:\n",
    "    def __init__(self, name, number, position):\n",
    "        self.name = name\n",
    "        self.number = number\n",
    "        self.position = position\n",
    "\n",
    "  \n",
    "player01 = football_player(\"Drew Brees\", 9, \"QB\")\n",
    "player02 = football_player(\"Kurt Coleman\", 39, \"S\")\n",
    "player03 = football_player(\"Austin Carr\", 80, \"WR\")\n",
    "player04 = football_player(\"Demario Davis\", 56, \"LB\")\n",
    "player05 = football_player(\"Justin Hardee\", 34, \"DB\")\n",
    "player06 = football_player(\"Cameron Jordan\", 94, \"DE\")\n",
    "player07 = football_player(\"Mark Ingram II\", 22, \"RB\")\n",
    "player08 = football_player(\"Thomas Morstead\", 6, \"P\")\n",
    "player09 = football_player(\"Michael Thomas\", 13, \"WR\")\n",
    "player10 = football_player(\"Alvin Kamara\", 41, \"RB\")\n",
    "player11 = football_player(\"Cameron Meredith\", 81, \"WR\")\n",
    "\n",
    "players = [player01, player02, player03, player04, player05, player06, player07, player08, player09, player10, player11]\n",
    "    \n",
    "with open('mySportsTeam.txt', 'w') as file:\n",
    "    for p in players:\n",
    "        file.write(str(\"%s\\n\" % p))\n",
    "        \n",
    "file = open('mySportsTeam.txt', 'r')\n",
    "file.read()"
   ]
  },
  {
   "cell_type": "code",
   "execution_count": 5,
   "metadata": {},
   "outputs": [],
   "source": [
    "# Part 2: Using pickle\n",
    "import pickle\n",
    "with open('mySportsTeam.txt', mode = 'wb') as f:\n",
    "    pickle.dump(players, f)"
   ]
  },
  {
   "cell_type": "code",
   "execution_count": null,
   "metadata": {},
   "outputs": [],
   "source": []
  },
  {
   "cell_type": "markdown",
   "metadata": {},
   "source": [
    "### Question 2. \n",
    "Why is shelves preferred over pickle for large data sets?  "
   ]
  },
  {
   "cell_type": "markdown",
   "metadata": {},
   "source": [
    "Answer:\n",
    "Pickle is for serializing some object as a bytestream in a file.\n",
    "Shelve builds on top of pickle, and implements a serialization dictionary where objects are pickled, but associated with a key (some string), so you can load your shelved data file and access your pickled objects via keys. \n",
    "Applying both to datastreams menas that pickle will run slower, while shelves will save memory with a smart approach to repeated values."
   ]
  },
  {
   "cell_type": "markdown",
   "metadata": {},
   "source": [
    "### Question 3. \n",
    "Using SQL Queries, create a database using python's sqlite3 module  \n",
    "\n",
    "We would like to have a database for an Role playing game.  In this database there are 3 tables.  \n",
    "\n",
    "Character table.  \n",
    "<pre>\n",
    "CharacterId INTEGER, Name TEXT, Race TEXT, Gender TEXT, Class TEXT, Health INTEGER, Mana INTEGER, InventoryID INTEGER\n",
    "</pre>\n",
    "Inventory table.\n",
    "<pre>\n",
    "InventoryId INTEGER, ItemId INTEGER, Quantity INTEGER\n",
    "</pre>\n",
    "\n",
    "Item table\n",
    "<pre>\n",
    "ItemId INTEGER, ItemName TEXT, ItemDescription TEXT, Consumable TINYINT \n",
    "</pre>\n",
    "\n",
    "Insert the following entries once the tables are created\n",
    "<pre>\n",
    "CharacterId, Race, Gender, Class, Health, Mana, InventoryId\n",
    "0, Bruce, Human, Male, Fighter, 100, 0, 0\n",
    "1, Thrall, Orc, Male, Warrior, 120, 0, 1\n",
    "2, Legolas, Elf, Male, Archer, 100, 0, 2\n",
    "3, Edwyrd, Elf, Male, Fighter, 100, 0, 3\n",
    "4, Lixiss, Elf, Female, Mage, 80, 100, 4\n",
    "5, Jasmine, Fairy, Female, Mage, 80, 120, 5\n",
    "</pre>\n",
    "\n",
    "Insert the following entires to the Items table\n",
    "<pre>\n",
    "ItemId, ItemName, ItemDescription, Consumable\n",
    "0, sword, a sharp blade, 0\n",
    "1, axe, good for chopping things, 0\n",
    "2, hammer, heavy but good for blacksmiths, 0\n",
    "3, staff, long reaching stick, 0\n",
    "4, bow, good for long ranged attacks, 0\n",
    "5, quiver of arrows, required by the bow, 0\n",
    "6, book, full of spells, 0\n",
    "7, light mana potion, replish mana, 1\n",
    "8, med mana potion, replish more mana, 1\n",
    "9, light health potion, cures light wounds, 1\n",
    "10, med health potion, cures medium wounds, 1\n",
    "</pre>\n",
    "\n",
    "Insert the following entries to the Inventory table\n",
    "<pre>\n",
    "InventoryId, ItemId, Quantity\n",
    "0, 0, 1\n",
    "0, 9, 5\n",
    "1, 1, 1\n",
    "1, 9, 2\n",
    "1, 10, 2\n",
    "2, 4, 1\n",
    "2, 5, 30\n",
    "2, 9, 4\n",
    "3, 0, 1\n",
    "3, 9, 4\n",
    "4, 3, 1\n",
    "4, 7, 5\n",
    "5, 6, 1\n",
    "5, 8, 3\n",
    "</pre>\n",
    "\n",
    "\n"
   ]
  },
  {
   "cell_type": "code",
   "execution_count": 9,
   "metadata": {},
   "outputs": [
    {
     "ename": "OperationalError",
     "evalue": "database is locked",
     "output_type": "error",
     "traceback": [
      "\u001b[1;31m---------------------------------------------------------------------------\u001b[0m",
      "\u001b[1;31mOperationalError\u001b[0m                          Traceback (most recent call last)",
      "\u001b[1;32m<ipython-input-9-6ade8b9e1084>\u001b[0m in \u001b[0;36m<module>\u001b[1;34m()\u001b[0m\n\u001b[0;32m     29\u001b[0m \u001b[0mdb\u001b[0m \u001b[1;33m=\u001b[0m \u001b[0msqlite3\u001b[0m\u001b[1;33m.\u001b[0m\u001b[0mconnect\u001b[0m\u001b[1;33m(\u001b[0m\u001b[1;34m'rpg_item_table.sqlite'\u001b[0m\u001b[1;33m)\u001b[0m\u001b[1;33m\u001b[0m\u001b[0m\n\u001b[0;32m     30\u001b[0m \u001b[0mdb\u001b[0m\u001b[1;33m.\u001b[0m\u001b[0mexecute\u001b[0m\u001b[1;33m(\u001b[0m\u001b[1;34m\"CREATE TABLE IF NOT EXISTS Itemtable ( ItemId INTEGER, ItemName TEXT, ItemDescription TEXT, Consumable TINYINT)\"\u001b[0m\u001b[1;33m)\u001b[0m\u001b[1;33m\u001b[0m\u001b[0m\n\u001b[1;32m---> 31\u001b[1;33m \u001b[0mdb\u001b[0m\u001b[1;33m.\u001b[0m\u001b[0mexecute\u001b[0m\u001b[1;33m(\u001b[0m\u001b[1;34m\"INSERT INTO Itemtable (ItemId, ItemName, ItemDescription, Consumable) VALUES (0, 'sword', 'a sharp blade', 0) \"\u001b[0m\u001b[1;33m)\u001b[0m\u001b[1;33m\u001b[0m\u001b[0m\n\u001b[0m\u001b[0;32m     32\u001b[0m \u001b[0mdb\u001b[0m\u001b[1;33m.\u001b[0m\u001b[0mexecute\u001b[0m\u001b[1;33m(\u001b[0m\u001b[1;34m\"INSERT INTO Itemtable (ItemId, ItemName, ItemDescription, Consumable) VALUES (1, 'axe', 'good for chopping things', 0) \"\u001b[0m\u001b[1;33m)\u001b[0m\u001b[1;33m\u001b[0m\u001b[0m\n\u001b[0;32m     33\u001b[0m \u001b[0mdb\u001b[0m\u001b[1;33m.\u001b[0m\u001b[0mexecute\u001b[0m\u001b[1;33m(\u001b[0m\u001b[1;34m\"INSERT INTO Itemtable (ItemId, ItemName, ItemDescription, Consumable) VALUES (2, 'hammer', 'heavy but good for blacksmiths', 0) \"\u001b[0m\u001b[1;33m)\u001b[0m\u001b[1;33m\u001b[0m\u001b[0m\n",
      "\u001b[1;31mOperationalError\u001b[0m: database is locked"
     ]
    }
   ],
   "source": [
    "import sqlite3\n",
    "\n",
    "db = sqlite3.connect('rpg_characters.sqlite')\n",
    "db.execute(\"CREATE TABLE IF NOT EXISTS Characters ( CharacterId INTEGER, Name TEXT, Race TEXT, Gender TEXT, Class TEXT, Health INTEGER, Mana INTEGER, InventoryID INTEGER)\")\n",
    "db.execute(\"INSERT INTO Characters ( CharacterId, Name, Race, Gender, Class, Health, Mana, InventoryID) VALUES (0, 'Bruce', 'Human', 'Male', 'Fighter', 100, 0, 0) \")\n",
    "db.execute(\"INSERT INTO Characters ( CharacterId, Name, Race, Gender, Class, Health, Mana, InventoryID) VALUES (1, 'Thrall', 'Orc', 'Male', 'Warrior', 120, 0, 1) \")\n",
    "db.execute(\"INSERT INTO Characters ( CharacterId, Name, Race, Gender, Class, Health, Mana, InventoryID) VALUES (2, 'Legolas', 'Elf', 'Male', 'Archer', 100, 0, 2) \")\n",
    "db.execute(\"INSERT INTO Characters ( CharacterId, Name, Race, Gender, Class, Health, Mana, InventoryID) VALUES (3, 'Edwyrd', 'Elf', 'Male', 'Fighter', 100, 0, 3) \")\n",
    "db.execute(\"INSERT INTO Characters ( CharacterId, Name, Race, Gender, Class, Health, Mana, InventoryID) VALUES (4, 'Lixiss', 'Elf', 'Female', 'Mage', 80, 100, 4) \")\n",
    "db.execute(\"INSERT INTO Characters ( CharacterId, Name, Race, Gender, Class, Health, Mana, InventoryID) VALUES (5, 'Jasmine', 'Fairy', 'Female', 'Mage', 80, 120, 5) \")\n",
    "\n",
    "db = sqlite3.connect('rpg_inventory.sqlite')\n",
    "db.execute(\"CREATE TABLE IF NOT EXISTS Inventory ( InventoryId INTEGER, ItemId INTEGER, Quantity INTEGER)\")\n",
    "db.execute(\"INSERT INTO Inventory ( InventoryId, ItemId, Quantity) VALUES (0, 0, 1) \")\n",
    "db.execute(\"INSERT INTO Inventory ( InventoryId, ItemId, Quantity) VALUES (0, 9, 5) \")\n",
    "db.execute(\"INSERT INTO Inventory ( InventoryId, ItemId, Quantity) VALUES (1, 1, 1) \")\n",
    "db.execute(\"INSERT INTO Inventory ( InventoryId, ItemId, Quantity) VALUES (1, 9, 2) \")\n",
    "db.execute(\"INSERT INTO Inventory ( InventoryId, ItemId, Quantity) VALUES (1, 10, 2) \")\n",
    "db.execute(\"INSERT INTO Inventory ( InventoryId, ItemId, Quantity) VALUES (2, 4, 1) \")\n",
    "db.execute(\"INSERT INTO Inventory ( InventoryId, ItemId, Quantity) VALUES (2, 5, 30) \")\n",
    "db.execute(\"INSERT INTO Inventory ( InventoryId, ItemId, Quantity) VALUES (2, 9, 4) \")\n",
    "db.execute(\"INSERT INTO Inventory ( InventoryId, ItemId, Quantity) VALUES (3, 0, 1) \")\n",
    "db.execute(\"INSERT INTO Inventory ( InventoryId, ItemId, Quantity) VALUES (3, 9, 4) \")\n",
    "db.execute(\"INSERT INTO Inventory ( InventoryId, ItemId, Quantity) VALUES (4, 3, 1) \")\n",
    "db.execute(\"INSERT INTO Inventory ( InventoryId, ItemId, Quantity) VALUES (4, 7, 5) \")\n",
    "db.execute(\"INSERT INTO Inventory ( InventoryId, ItemId, Quantity) VALUES (5, 6, 1) \")\n",
    "db.execute(\"INSERT INTO Inventory ( InventoryId, ItemId, Quantity) VALUES (5, 8, 3) \")\n",
    "\n",
    "db = sqlite3.connect('rpg_item_table.sqlite')\n",
    "db.execute(\"CREATE TABLE IF NOT EXISTS Itemtable ( ItemId INTEGER, ItemName TEXT, ItemDescription TEXT, Consumable TINYINT)\")\n",
    "db.execute(\"INSERT INTO Itemtable (ItemId, ItemName, ItemDescription, Consumable) VALUES (0, 'sword', 'a sharp blade', 0) \")\n",
    "db.execute(\"INSERT INTO Itemtable (ItemId, ItemName, ItemDescription, Consumable) VALUES (1, 'axe', 'good for chopping things', 0) \")\n",
    "db.execute(\"INSERT INTO Itemtable (ItemId, ItemName, ItemDescription, Consumable) VALUES (2, 'hammer', 'heavy but good for blacksmiths', 0) \")\n",
    "db.execute(\"INSERT INTO Itemtable (ItemId, ItemName, ItemDescription, Consumable) VALUES (3, 'staff', 'long reaching stick', 0) \")\n",
    "db.execute(\"INSERT INTO Itemtable (ItemId, ItemName, ItemDescription, Consumable) VALUES (4, 'bow', 'good for long ranged attacks', 0) \")\n",
    "db.execute(\"INSERT INTO Itemtable (ItemId, ItemName, ItemDescription, Consumable) VALUES (5, 'quiver of arrows', 'required by the bow', 0) \")\n",
    "db.execute(\"INSERT INTO Itemtable (ItemId, ItemName, ItemDescription, Consumable) VALUES (6, 'book', 'full of spells', 0) \")\n",
    "db.execute(\"INSERT INTO Itemtable (ItemId, ItemName, ItemDescription, Consumable) VALUES (7, 'light mana potion', 'replish mana', 1) \")\n",
    "db.execute(\"INSERT INTO Itemtable (ItemId, ItemName, ItemDescription, Consumable) VALUES (8, 'med mana potion', 'replish more mana', 1) \")\n",
    "db.execute(\"INSERT INTO Itemtable (ItemId, ItemName, ItemDescription, Consumable) VALUES (9, 'light health potion', 'cures light wounds', 1) \")\n",
    "db.execute(\"INSERT INTO Itemtable (ItemId, ItemName, ItemDescription, Consumable) VALUES (10, 'med health potion', 'cures medium wounds', 1) \")\n",
    "\n"
   ]
  },
  {
   "cell_type": "markdown",
   "metadata": {},
   "source": [
    "Once all the data have been added, do the following:\n",
    "\n",
    "a. display all the characters, display all the items ( this will require SELECT * statement)  \n",
    "b. display only the character who are elves (this will require the WHERE clause)  \n",
    "c. display the inventory for each character (this will require a INNER JOIN with the 3 tables)  \n"
   ]
  },
  {
   "cell_type": "code",
   "execution_count": 8,
   "metadata": {},
   "outputs": [
    {
     "ename": "OperationalError",
     "evalue": "no such table: Characters",
     "output_type": "error",
     "traceback": [
      "\u001b[1;31m---------------------------------------------------------------------------\u001b[0m",
      "\u001b[1;31mOperationalError\u001b[0m                          Traceback (most recent call last)",
      "\u001b[1;32m<ipython-input-8-194595d813ac>\u001b[0m in \u001b[0;36m<module>\u001b[1;34m()\u001b[0m\n\u001b[0;32m      1\u001b[0m \u001b[0mcursor\u001b[0m \u001b[1;33m=\u001b[0m \u001b[0mdb\u001b[0m\u001b[1;33m.\u001b[0m\u001b[0mcursor\u001b[0m\u001b[1;33m(\u001b[0m\u001b[1;33m)\u001b[0m\u001b[1;33m\u001b[0m\u001b[0m\n\u001b[1;32m----> 2\u001b[1;33m \u001b[1;32mfor\u001b[0m \u001b[0mrow\u001b[0m \u001b[1;32min\u001b[0m \u001b[0mcursor\u001b[0m\u001b[1;33m.\u001b[0m\u001b[0mexecute\u001b[0m\u001b[1;33m(\u001b[0m\u001b[1;34m\"SELECT * FROM Characters\"\u001b[0m\u001b[1;33m)\u001b[0m\u001b[1;33m:\u001b[0m\u001b[1;33m\u001b[0m\u001b[0m\n\u001b[0m\u001b[0;32m      3\u001b[0m     \u001b[0mprint\u001b[0m\u001b[1;33m(\u001b[0m\u001b[0mrow\u001b[0m\u001b[1;33m)\u001b[0m\u001b[1;33m\u001b[0m\u001b[0m\n\u001b[0;32m      4\u001b[0m \u001b[1;33m\u001b[0m\u001b[0m\n\u001b[0;32m      5\u001b[0m \u001b[0mcursor\u001b[0m \u001b[1;33m=\u001b[0m \u001b[0mdb\u001b[0m\u001b[1;33m.\u001b[0m\u001b[0mcursor\u001b[0m\u001b[1;33m(\u001b[0m\u001b[1;33m)\u001b[0m\u001b[1;33m\u001b[0m\u001b[0m\n",
      "\u001b[1;31mOperationalError\u001b[0m: no such table: Characters"
     ]
    }
   ],
   "source": [
    "cursor = db.cursor()\n",
    "for row in cursor.execute(\"SELECT * FROM Characters\"):\n",
    "    print(row)\n",
    "    \n",
    "cursor = db.cursor()\n",
    "for row in cursor.execute(\"SELECT * FROM Itemtable\"):\n",
    "    print(row)\n",
    "    \n",
    "    \n",
    "cursor = db.cursor()\n",
    "for row in cursor.execute(\"SELECT * FROM Characters WHERE Class ='Elf'\"):\n",
    "    print(row)   \n",
    "    \n",
    "cursor = db.cursor()\n",
    "for row in cursor.execute(\"SELECT * FROM Itemtable INNER JOIN Inventory ON Characters.InventoryID\"):\n",
    "    print(row)\n"
   ]
  },
  {
   "cell_type": "code",
   "execution_count": null,
   "metadata": {},
   "outputs": [],
   "source": []
  }
 ],
 "metadata": {
  "kernelspec": {
   "display_name": "Python 3",
   "language": "python",
   "name": "python3"
  },
  "language_info": {
   "codemirror_mode": {
    "name": "ipython",
    "version": 3
   },
   "file_extension": ".py",
   "mimetype": "text/x-python",
   "name": "python",
   "nbconvert_exporter": "python",
   "pygments_lexer": "ipython3",
   "version": "3.7.0"
  }
 },
 "nbformat": 4,
 "nbformat_minor": 2
}
