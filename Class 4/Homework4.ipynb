{
 "cells": [
  {
   "cell_type": "markdown",
   "metadata": {},
   "source": [
    "# Assignment 4\n",
    "\n",
    "### Question 1.\n",
    "part 1. Using open, and write.  \n",
    "a. Create a dictionary with the following:  \n",
    "Sport name and the number of players save it to a file.  \n",
    "\n",
    "sports = { 'basketball': 10, ... }  \n",
    " \n",
    "Save it to a text file, and load the file and print it on the screen.  \n",
    "\n",
    "part 2. Using Pickle save the dictionary into a binary file and load and print it out  \n",
    "  \n",
    "part 3. Repeat the same steps using Shelve.  \n",
    "  \n",
    "part 4. Repeat the same steps using Json.  "
   ]
  },
  {
   "cell_type": "code",
   "execution_count": 12,
   "metadata": {},
   "outputs": [],
   "source": [
    "# Part 1: Create a dictionary for a Sport team\n",
    "\n",
    "f = open('mySportsTeam.txt', 'w')\n",
    "f.write(\"Sport: Football [NFL]\\n\")\n",
    "f.write(\"Team Name: New Orleans Saints\\n\")\n",
    "f.write(\"Number of Players: 11\\n\")\n",
    "f.write(\"\\n\")\n",
    "f.write(\"\\n\")\n",
    "\n",
    "f.close()\n",
    "    "
   ]
  },
  {
   "cell_type": "code",
   "execution_count": 19,
   "metadata": {},
   "outputs": [
    {
     "data": {
      "text/plain": [
       "'<__main__.football_player object at 0x0000016B7D01F4A8>\\n<__main__.football_player object at 0x0000016B7D01F518>\\n<__main__.football_player object at 0x0000016B7D01F4E0>\\n<__main__.football_player object at 0x0000016B7D01F550>\\n<__main__.football_player object at 0x0000016B7D01F588>\\n<__main__.football_player object at 0x0000016B7D01F5C0>\\n<__main__.football_player object at 0x0000016B7D01F5F8>\\n<__main__.football_player object at 0x0000016B7D01F630>\\n<__main__.football_player object at 0x0000016B7D01F668>\\n<__main__.football_player object at 0x0000016B7D01F6A0>\\n<__main__.football_player object at 0x0000016B7D01F6D8>\\n'"
      ]
     },
     "execution_count": 19,
     "metadata": {},
     "output_type": "execute_result"
    }
   ],
   "source": [
    "f = open('mySportsTeam.txt', 'w')\n",
    "\n",
    "# Adding 11 players\n",
    "class football_player:\n",
    "    def __init__(self, name, number, position):\n",
    "        self.name = name\n",
    "        self.number = number\n",
    "        self.position = position\n",
    "\n",
    "  \n",
    "player01 = football_player(\"Drew Brees\", 9, \"QB\")\n",
    "player02 = football_player(\"Kurt Coleman\", 39, \"S\")\n",
    "player03 = football_player(\"Austin Carr\", 80, \"WR\")\n",
    "player04 = football_player(\"Demario Davis\", 56, \"LB\")\n",
    "player05 = football_player(\"Justin Hardee\", 34, \"DB\")\n",
    "player06 = football_player(\"Cameron Jordan\", 94, \"DE\")\n",
    "player07 = football_player(\"Mark Ingram II\", 22, \"RB\")\n",
    "player08 = football_player(\"Thomas Morstead\", 6, \"P\")\n",
    "player09 = football_player(\"Michael Thomas\", 13, \"WR\")\n",
    "player10 = football_player(\"Alvin Kamara\", 41, \"RB\")\n",
    "player11 = football_player(\"Cameron Meredith\", 81, \"WR\")\n",
    "\n",
    "players = [player01, player02, player03, player04, player05, player06, player07, player08, player09, player10, player11]\n",
    "    \n",
    "with open('mySportsTeam.txt', 'w') as file:\n",
    "    for p in players:\n",
    "        file.write(str(\"%s\\n\" % p))\n",
    "        \n",
    "file = open('mySportsTeam.txt', 'r')\n",
    "file.read()"
   ]
  },
  {
   "cell_type": "code",
   "execution_count": 24,
   "metadata": {},
   "outputs": [],
   "source": [
    "# Part 2: Using pickle\n",
    "import pickle\n",
    "with open('mySportsTeam.txt', mode = 'wb') as f:\n",
    "    pickle.dump(players, f)"
   ]
  },
  {
   "cell_type": "code",
   "execution_count": 25,
   "metadata": {},
   "outputs": [
    {
     "name": "stdout",
     "output_type": "stream",
     "text": [
      "<__main__.football_player object at 0x0000016B7D01FBE0>\n",
      "<__main__.football_player object at 0x0000016B7D01F1D0>\n",
      "<__main__.football_player object at 0x0000016B7D01F710>\n",
      "<__main__.football_player object at 0x0000016B7D01F898>\n",
      "<__main__.football_player object at 0x0000016B7D01F860>\n",
      "<__main__.football_player object at 0x0000016B7D01F080>\n",
      "<__main__.football_player object at 0x0000016B7D01F208>\n",
      "<__main__.football_player object at 0x0000016B7D01F7B8>\n",
      "<__main__.football_player object at 0x0000016B7D01F278>\n",
      "<__main__.football_player object at 0x0000016B7D01F240>\n",
      "<__main__.football_player object at 0x0000016B7D01F8D0>\n"
     ]
    }
   ],
   "source": [
    "with open('mySportsTeam.txt', mode='rb') as f:\n",
    "    rooster = pickle.load(f)\n",
    "\n",
    "for player in  rooster:\n",
    "    print(str(player))\n"
   ]
  },
  {
   "cell_type": "code",
   "execution_count": 16,
   "metadata": {},
   "outputs": [
    {
     "ename": "error",
     "evalue": "db type could not be determined",
     "output_type": "error",
     "traceback": [
      "\u001b[1;31m---------------------------------------------------------------------------\u001b[0m",
      "\u001b[1;31merror\u001b[0m                                     Traceback (most recent call last)",
      "\u001b[1;32m<ipython-input-16-da8f27505afe>\u001b[0m in \u001b[0;36m<module>\u001b[1;34m()\u001b[0m\n\u001b[0;32m      1\u001b[0m \u001b[1;32mimport\u001b[0m \u001b[0mshelve\u001b[0m\u001b[1;33m\u001b[0m\u001b[0m\n\u001b[0;32m      2\u001b[0m \u001b[1;33m\u001b[0m\u001b[0m\n\u001b[1;32m----> 3\u001b[1;33m \u001b[1;32mwith\u001b[0m \u001b[0mshelve\u001b[0m\u001b[1;33m.\u001b[0m\u001b[0mopen\u001b[0m\u001b[1;33m(\u001b[0m\u001b[1;34m'mySportsTeam.txt'\u001b[0m\u001b[1;33m)\u001b[0m \u001b[1;32mas\u001b[0m \u001b[0mdb\u001b[0m\u001b[1;33m:\u001b[0m\u001b[1;33m\u001b[0m\u001b[0m\n\u001b[0m\u001b[0;32m      4\u001b[0m     \u001b[0mdb\u001b[0m\u001b[1;33m[\u001b[0m\u001b[1;34m'mySportsTeam.txt'\u001b[0m\u001b[1;33m]\u001b[0m \u001b[1;33m=\u001b[0m \u001b[0mplayers\u001b[0m\u001b[1;33m\u001b[0m\u001b[0m\n",
      "\u001b[1;32mC:\\ProgramData\\Anaconda3\\lib\\shelve.py\u001b[0m in \u001b[0;36mopen\u001b[1;34m(filename, flag, protocol, writeback)\u001b[0m\n\u001b[0;32m    241\u001b[0m     \"\"\"\n\u001b[0;32m    242\u001b[0m \u001b[1;33m\u001b[0m\u001b[0m\n\u001b[1;32m--> 243\u001b[1;33m     \u001b[1;32mreturn\u001b[0m \u001b[0mDbfilenameShelf\u001b[0m\u001b[1;33m(\u001b[0m\u001b[0mfilename\u001b[0m\u001b[1;33m,\u001b[0m \u001b[0mflag\u001b[0m\u001b[1;33m,\u001b[0m \u001b[0mprotocol\u001b[0m\u001b[1;33m,\u001b[0m \u001b[0mwriteback\u001b[0m\u001b[1;33m)\u001b[0m\u001b[1;33m\u001b[0m\u001b[0m\n\u001b[0m",
      "\u001b[1;32mC:\\ProgramData\\Anaconda3\\lib\\shelve.py\u001b[0m in \u001b[0;36m__init__\u001b[1;34m(self, filename, flag, protocol, writeback)\u001b[0m\n\u001b[0;32m    225\u001b[0m     \u001b[1;32mdef\u001b[0m \u001b[0m__init__\u001b[0m\u001b[1;33m(\u001b[0m\u001b[0mself\u001b[0m\u001b[1;33m,\u001b[0m \u001b[0mfilename\u001b[0m\u001b[1;33m,\u001b[0m \u001b[0mflag\u001b[0m\u001b[1;33m=\u001b[0m\u001b[1;34m'c'\u001b[0m\u001b[1;33m,\u001b[0m \u001b[0mprotocol\u001b[0m\u001b[1;33m=\u001b[0m\u001b[1;32mNone\u001b[0m\u001b[1;33m,\u001b[0m \u001b[0mwriteback\u001b[0m\u001b[1;33m=\u001b[0m\u001b[1;32mFalse\u001b[0m\u001b[1;33m)\u001b[0m\u001b[1;33m:\u001b[0m\u001b[1;33m\u001b[0m\u001b[0m\n\u001b[0;32m    226\u001b[0m         \u001b[1;32mimport\u001b[0m \u001b[0mdbm\u001b[0m\u001b[1;33m\u001b[0m\u001b[0m\n\u001b[1;32m--> 227\u001b[1;33m         \u001b[0mShelf\u001b[0m\u001b[1;33m.\u001b[0m\u001b[0m__init__\u001b[0m\u001b[1;33m(\u001b[0m\u001b[0mself\u001b[0m\u001b[1;33m,\u001b[0m \u001b[0mdbm\u001b[0m\u001b[1;33m.\u001b[0m\u001b[0mopen\u001b[0m\u001b[1;33m(\u001b[0m\u001b[0mfilename\u001b[0m\u001b[1;33m,\u001b[0m \u001b[0mflag\u001b[0m\u001b[1;33m)\u001b[0m\u001b[1;33m,\u001b[0m \u001b[0mprotocol\u001b[0m\u001b[1;33m,\u001b[0m \u001b[0mwriteback\u001b[0m\u001b[1;33m)\u001b[0m\u001b[1;33m\u001b[0m\u001b[0m\n\u001b[0m\u001b[0;32m    228\u001b[0m \u001b[1;33m\u001b[0m\u001b[0m\n\u001b[0;32m    229\u001b[0m \u001b[1;33m\u001b[0m\u001b[0m\n",
      "\u001b[1;32mC:\\ProgramData\\Anaconda3\\lib\\dbm\\__init__.py\u001b[0m in \u001b[0;36mopen\u001b[1;34m(file, flag, mode)\u001b[0m\n\u001b[0;32m     86\u001b[0m     \u001b[1;32melif\u001b[0m \u001b[0mresult\u001b[0m \u001b[1;33m==\u001b[0m \u001b[1;34m\"\"\u001b[0m\u001b[1;33m:\u001b[0m\u001b[1;33m\u001b[0m\u001b[0m\n\u001b[0;32m     87\u001b[0m         \u001b[1;31m# db type cannot be determined\u001b[0m\u001b[1;33m\u001b[0m\u001b[1;33m\u001b[0m\u001b[0m\n\u001b[1;32m---> 88\u001b[1;33m         \u001b[1;32mraise\u001b[0m \u001b[0merror\u001b[0m\u001b[1;33m[\u001b[0m\u001b[1;36m0\u001b[0m\u001b[1;33m]\u001b[0m\u001b[1;33m(\u001b[0m\u001b[1;34m\"db type could not be determined\"\u001b[0m\u001b[1;33m)\u001b[0m\u001b[1;33m\u001b[0m\u001b[0m\n\u001b[0m\u001b[0;32m     89\u001b[0m     \u001b[1;32melif\u001b[0m \u001b[0mresult\u001b[0m \u001b[1;32mnot\u001b[0m \u001b[1;32min\u001b[0m \u001b[0m_modules\u001b[0m\u001b[1;33m:\u001b[0m\u001b[1;33m\u001b[0m\u001b[0m\n\u001b[0;32m     90\u001b[0m         raise error[0](\"db type is {0}, but the module is not \"\n",
      "\u001b[1;31merror\u001b[0m: db type could not be determined"
     ]
    }
   ],
   "source": [
    "import shelve\n",
    "\n",
    "with shelve.open('mySportsTeam.txt') as db:\n",
    "    db['mySportsTeam.txt'] = players\n"
   ]
  },
  {
   "cell_type": "code",
   "execution_count": 17,
   "metadata": {},
   "outputs": [
    {
     "ename": "KeyError",
     "evalue": "b'players'",
     "output_type": "error",
     "traceback": [
      "\u001b[1;31m---------------------------------------------------------------------------\u001b[0m",
      "\u001b[1;31mKeyError\u001b[0m                                  Traceback (most recent call last)",
      "\u001b[1;32mC:\\ProgramData\\Anaconda3\\lib\\shelve.py\u001b[0m in \u001b[0;36m__getitem__\u001b[1;34m(self, key)\u001b[0m\n\u001b[0;32m    110\u001b[0m         \u001b[1;32mtry\u001b[0m\u001b[1;33m:\u001b[0m\u001b[1;33m\u001b[0m\u001b[0m\n\u001b[1;32m--> 111\u001b[1;33m             \u001b[0mvalue\u001b[0m \u001b[1;33m=\u001b[0m \u001b[0mself\u001b[0m\u001b[1;33m.\u001b[0m\u001b[0mcache\u001b[0m\u001b[1;33m[\u001b[0m\u001b[0mkey\u001b[0m\u001b[1;33m]\u001b[0m\u001b[1;33m\u001b[0m\u001b[0m\n\u001b[0m\u001b[0;32m    112\u001b[0m         \u001b[1;32mexcept\u001b[0m \u001b[0mKeyError\u001b[0m\u001b[1;33m:\u001b[0m\u001b[1;33m\u001b[0m\u001b[0m\n",
      "\u001b[1;31mKeyError\u001b[0m: 'players'",
      "\nDuring handling of the above exception, another exception occurred:\n",
      "\u001b[1;31mKeyError\u001b[0m                                  Traceback (most recent call last)",
      "\u001b[1;32m<ipython-input-17-8e207b7e0db7>\u001b[0m in \u001b[0;36m<module>\u001b[1;34m()\u001b[0m\n\u001b[0;32m      1\u001b[0m \u001b[0mshelved_players\u001b[0m \u001b[1;33m=\u001b[0m \u001b[1;33m[\u001b[0m\u001b[1;33m]\u001b[0m\u001b[1;33m\u001b[0m\u001b[0m\n\u001b[0;32m      2\u001b[0m \u001b[1;32mwith\u001b[0m \u001b[0mshelve\u001b[0m\u001b[1;33m.\u001b[0m\u001b[0mopen\u001b[0m\u001b[1;33m(\u001b[0m\u001b[1;34m'players'\u001b[0m\u001b[1;33m,\u001b[0m \u001b[0mwriteback\u001b[0m\u001b[1;33m=\u001b[0m\u001b[1;32mTrue\u001b[0m\u001b[1;33m)\u001b[0m \u001b[1;32mas\u001b[0m \u001b[0mdb\u001b[0m\u001b[1;33m:\u001b[0m\u001b[1;33m\u001b[0m\u001b[0m\n\u001b[1;32m----> 3\u001b[1;33m     \u001b[0mshelved_players\u001b[0m \u001b[1;33m=\u001b[0m \u001b[0mdb\u001b[0m\u001b[1;33m[\u001b[0m\u001b[1;34m'players'\u001b[0m\u001b[1;33m]\u001b[0m\u001b[1;33m\u001b[0m\u001b[0m\n\u001b[0m\u001b[0;32m      4\u001b[0m     \u001b[0mdb\u001b[0m\u001b[1;33m[\u001b[0m\u001b[1;34m'players'\u001b[0m\u001b[1;33m]\u001b[0m\u001b[1;33m.\u001b[0m\u001b[0mappend\u001b[0m\u001b[1;33m(\u001b[0m\u001b[0mCharacter\u001b[0m\u001b[1;33m(\u001b[0m\u001b[1;34m'Jimmy Graham'\u001b[0m\u001b[1;33m,\u001b[0m \u001b[1;36m88\u001b[0m\u001b[1;33m,\u001b[0m \u001b[1;34m\"WR\"\u001b[0m\u001b[1;33m)\u001b[0m\u001b[1;33m)\u001b[0m\u001b[1;33m\u001b[0m\u001b[0m\n\u001b[0;32m      5\u001b[0m \u001b[1;33m\u001b[0m\u001b[0m\n",
      "\u001b[1;32mC:\\ProgramData\\Anaconda3\\lib\\shelve.py\u001b[0m in \u001b[0;36m__getitem__\u001b[1;34m(self, key)\u001b[0m\n\u001b[0;32m    111\u001b[0m             \u001b[0mvalue\u001b[0m \u001b[1;33m=\u001b[0m \u001b[0mself\u001b[0m\u001b[1;33m.\u001b[0m\u001b[0mcache\u001b[0m\u001b[1;33m[\u001b[0m\u001b[0mkey\u001b[0m\u001b[1;33m]\u001b[0m\u001b[1;33m\u001b[0m\u001b[0m\n\u001b[0;32m    112\u001b[0m         \u001b[1;32mexcept\u001b[0m \u001b[0mKeyError\u001b[0m\u001b[1;33m:\u001b[0m\u001b[1;33m\u001b[0m\u001b[0m\n\u001b[1;32m--> 113\u001b[1;33m             \u001b[0mf\u001b[0m \u001b[1;33m=\u001b[0m \u001b[0mBytesIO\u001b[0m\u001b[1;33m(\u001b[0m\u001b[0mself\u001b[0m\u001b[1;33m.\u001b[0m\u001b[0mdict\u001b[0m\u001b[1;33m[\u001b[0m\u001b[0mkey\u001b[0m\u001b[1;33m.\u001b[0m\u001b[0mencode\u001b[0m\u001b[1;33m(\u001b[0m\u001b[0mself\u001b[0m\u001b[1;33m.\u001b[0m\u001b[0mkeyencoding\u001b[0m\u001b[1;33m)\u001b[0m\u001b[1;33m]\u001b[0m\u001b[1;33m)\u001b[0m\u001b[1;33m\u001b[0m\u001b[0m\n\u001b[0m\u001b[0;32m    114\u001b[0m             \u001b[0mvalue\u001b[0m \u001b[1;33m=\u001b[0m \u001b[0mUnpickler\u001b[0m\u001b[1;33m(\u001b[0m\u001b[0mf\u001b[0m\u001b[1;33m)\u001b[0m\u001b[1;33m.\u001b[0m\u001b[0mload\u001b[0m\u001b[1;33m(\u001b[0m\u001b[1;33m)\u001b[0m\u001b[1;33m\u001b[0m\u001b[0m\n\u001b[0;32m    115\u001b[0m             \u001b[1;32mif\u001b[0m \u001b[0mself\u001b[0m\u001b[1;33m.\u001b[0m\u001b[0mwriteback\u001b[0m\u001b[1;33m:\u001b[0m\u001b[1;33m\u001b[0m\u001b[0m\n",
      "\u001b[1;32mC:\\ProgramData\\Anaconda3\\lib\\dbm\\dumb.py\u001b[0m in \u001b[0;36m__getitem__\u001b[1;34m(self, key)\u001b[0m\n\u001b[0;32m    151\u001b[0m             \u001b[0mkey\u001b[0m \u001b[1;33m=\u001b[0m \u001b[0mkey\u001b[0m\u001b[1;33m.\u001b[0m\u001b[0mencode\u001b[0m\u001b[1;33m(\u001b[0m\u001b[1;34m'utf-8'\u001b[0m\u001b[1;33m)\u001b[0m\u001b[1;33m\u001b[0m\u001b[0m\n\u001b[0;32m    152\u001b[0m         \u001b[0mself\u001b[0m\u001b[1;33m.\u001b[0m\u001b[0m_verify_open\u001b[0m\u001b[1;33m(\u001b[0m\u001b[1;33m)\u001b[0m\u001b[1;33m\u001b[0m\u001b[0m\n\u001b[1;32m--> 153\u001b[1;33m         \u001b[0mpos\u001b[0m\u001b[1;33m,\u001b[0m \u001b[0msiz\u001b[0m \u001b[1;33m=\u001b[0m \u001b[0mself\u001b[0m\u001b[1;33m.\u001b[0m\u001b[0m_index\u001b[0m\u001b[1;33m[\u001b[0m\u001b[0mkey\u001b[0m\u001b[1;33m]\u001b[0m     \u001b[1;31m# may raise KeyError\u001b[0m\u001b[1;33m\u001b[0m\u001b[0m\n\u001b[0m\u001b[0;32m    154\u001b[0m         \u001b[1;32mwith\u001b[0m \u001b[0m_io\u001b[0m\u001b[1;33m.\u001b[0m\u001b[0mopen\u001b[0m\u001b[1;33m(\u001b[0m\u001b[0mself\u001b[0m\u001b[1;33m.\u001b[0m\u001b[0m_datfile\u001b[0m\u001b[1;33m,\u001b[0m \u001b[1;34m'rb'\u001b[0m\u001b[1;33m)\u001b[0m \u001b[1;32mas\u001b[0m \u001b[0mf\u001b[0m\u001b[1;33m:\u001b[0m\u001b[1;33m\u001b[0m\u001b[0m\n\u001b[0;32m    155\u001b[0m             \u001b[0mf\u001b[0m\u001b[1;33m.\u001b[0m\u001b[0mseek\u001b[0m\u001b[1;33m(\u001b[0m\u001b[0mpos\u001b[0m\u001b[1;33m)\u001b[0m\u001b[1;33m\u001b[0m\u001b[0m\n",
      "\u001b[1;31mKeyError\u001b[0m: b'players'"
     ]
    }
   ],
   "source": [
    "shelved_players = []\n",
    "with shelve.open('players', writeback=True) as db:\n",
    "    shelved_players = db['players']\n",
    "    db['players'].append(Character('Jimmy Graham', 88, \"WR\"))\n",
    "    \n",
    "    \n",
    "for players in shelved_players:\n",
    "    print(str(player))\n"
   ]
  },
  {
   "cell_type": "code",
   "execution_count": 27,
   "metadata": {},
   "outputs": [
    {
     "ename": "TypeError",
     "evalue": "Object of type football_player is not JSON serializable",
     "output_type": "error",
     "traceback": [
      "\u001b[1;31m---------------------------------------------------------------------------\u001b[0m",
      "\u001b[1;31mTypeError\u001b[0m                                 Traceback (most recent call last)",
      "\u001b[1;32m<ipython-input-27-6205f7c9baf6>\u001b[0m in \u001b[0;36m<module>\u001b[1;34m()\u001b[0m\n\u001b[0;32m     15\u001b[0m \u001b[1;33m\u001b[0m\u001b[0m\n\u001b[0;32m     16\u001b[0m \u001b[1;32mwith\u001b[0m \u001b[0mopen\u001b[0m\u001b[1;33m(\u001b[0m\u001b[1;34m'players.json'\u001b[0m\u001b[1;33m,\u001b[0m \u001b[0mmode\u001b[0m\u001b[1;33m=\u001b[0m\u001b[1;34m'w'\u001b[0m\u001b[1;33m)\u001b[0m \u001b[1;32mas\u001b[0m \u001b[0mf\u001b[0m\u001b[1;33m:\u001b[0m\u001b[1;33m\u001b[0m\u001b[0m\n\u001b[1;32m---> 17\u001b[1;33m     \u001b[0mjson\u001b[0m\u001b[1;33m.\u001b[0m\u001b[0mdump\u001b[0m\u001b[1;33m(\u001b[0m\u001b[0mplayers\u001b[0m\u001b[1;33m,\u001b[0m \u001b[0mf\u001b[0m\u001b[1;33m)\u001b[0m\u001b[1;33m\u001b[0m\u001b[0m\n\u001b[0m\u001b[0;32m     18\u001b[0m \u001b[1;33m\u001b[0m\u001b[0m\n\u001b[0;32m     19\u001b[0m \u001b[1;33m\u001b[0m\u001b[0m\n",
      "\u001b[1;32mC:\\ProgramData\\Anaconda3\\lib\\json\\__init__.py\u001b[0m in \u001b[0;36mdump\u001b[1;34m(obj, fp, skipkeys, ensure_ascii, check_circular, allow_nan, cls, indent, separators, default, sort_keys, **kw)\u001b[0m\n\u001b[0;32m    177\u001b[0m     \u001b[1;31m# could accelerate with writelines in some versions of Python, at\u001b[0m\u001b[1;33m\u001b[0m\u001b[1;33m\u001b[0m\u001b[0m\n\u001b[0;32m    178\u001b[0m     \u001b[1;31m# a debuggability cost\u001b[0m\u001b[1;33m\u001b[0m\u001b[1;33m\u001b[0m\u001b[0m\n\u001b[1;32m--> 179\u001b[1;33m     \u001b[1;32mfor\u001b[0m \u001b[0mchunk\u001b[0m \u001b[1;32min\u001b[0m \u001b[0miterable\u001b[0m\u001b[1;33m:\u001b[0m\u001b[1;33m\u001b[0m\u001b[0m\n\u001b[0m\u001b[0;32m    180\u001b[0m         \u001b[0mfp\u001b[0m\u001b[1;33m.\u001b[0m\u001b[0mwrite\u001b[0m\u001b[1;33m(\u001b[0m\u001b[0mchunk\u001b[0m\u001b[1;33m)\u001b[0m\u001b[1;33m\u001b[0m\u001b[0m\n\u001b[0;32m    181\u001b[0m \u001b[1;33m\u001b[0m\u001b[0m\n",
      "\u001b[1;32mC:\\ProgramData\\Anaconda3\\lib\\json\\encoder.py\u001b[0m in \u001b[0;36m_iterencode\u001b[1;34m(o, _current_indent_level)\u001b[0m\n\u001b[0;32m    427\u001b[0m             \u001b[1;32myield\u001b[0m \u001b[0m_floatstr\u001b[0m\u001b[1;33m(\u001b[0m\u001b[0mo\u001b[0m\u001b[1;33m)\u001b[0m\u001b[1;33m\u001b[0m\u001b[0m\n\u001b[0;32m    428\u001b[0m         \u001b[1;32melif\u001b[0m \u001b[0misinstance\u001b[0m\u001b[1;33m(\u001b[0m\u001b[0mo\u001b[0m\u001b[1;33m,\u001b[0m \u001b[1;33m(\u001b[0m\u001b[0mlist\u001b[0m\u001b[1;33m,\u001b[0m \u001b[0mtuple\u001b[0m\u001b[1;33m)\u001b[0m\u001b[1;33m)\u001b[0m\u001b[1;33m:\u001b[0m\u001b[1;33m\u001b[0m\u001b[0m\n\u001b[1;32m--> 429\u001b[1;33m             \u001b[1;32myield\u001b[0m \u001b[1;32mfrom\u001b[0m \u001b[0m_iterencode_list\u001b[0m\u001b[1;33m(\u001b[0m\u001b[0mo\u001b[0m\u001b[1;33m,\u001b[0m \u001b[0m_current_indent_level\u001b[0m\u001b[1;33m)\u001b[0m\u001b[1;33m\u001b[0m\u001b[0m\n\u001b[0m\u001b[0;32m    430\u001b[0m         \u001b[1;32melif\u001b[0m \u001b[0misinstance\u001b[0m\u001b[1;33m(\u001b[0m\u001b[0mo\u001b[0m\u001b[1;33m,\u001b[0m \u001b[0mdict\u001b[0m\u001b[1;33m)\u001b[0m\u001b[1;33m:\u001b[0m\u001b[1;33m\u001b[0m\u001b[0m\n\u001b[0;32m    431\u001b[0m             \u001b[1;32myield\u001b[0m \u001b[1;32mfrom\u001b[0m \u001b[0m_iterencode_dict\u001b[0m\u001b[1;33m(\u001b[0m\u001b[0mo\u001b[0m\u001b[1;33m,\u001b[0m \u001b[0m_current_indent_level\u001b[0m\u001b[1;33m)\u001b[0m\u001b[1;33m\u001b[0m\u001b[0m\n",
      "\u001b[1;32mC:\\ProgramData\\Anaconda3\\lib\\json\\encoder.py\u001b[0m in \u001b[0;36m_iterencode_list\u001b[1;34m(lst, _current_indent_level)\u001b[0m\n\u001b[0;32m    323\u001b[0m                 \u001b[1;32melse\u001b[0m\u001b[1;33m:\u001b[0m\u001b[1;33m\u001b[0m\u001b[0m\n\u001b[0;32m    324\u001b[0m                     \u001b[0mchunks\u001b[0m \u001b[1;33m=\u001b[0m \u001b[0m_iterencode\u001b[0m\u001b[1;33m(\u001b[0m\u001b[0mvalue\u001b[0m\u001b[1;33m,\u001b[0m \u001b[0m_current_indent_level\u001b[0m\u001b[1;33m)\u001b[0m\u001b[1;33m\u001b[0m\u001b[0m\n\u001b[1;32m--> 325\u001b[1;33m                 \u001b[1;32myield\u001b[0m \u001b[1;32mfrom\u001b[0m \u001b[0mchunks\u001b[0m\u001b[1;33m\u001b[0m\u001b[0m\n\u001b[0m\u001b[0;32m    326\u001b[0m         \u001b[1;32mif\u001b[0m \u001b[0mnewline_indent\u001b[0m \u001b[1;32mis\u001b[0m \u001b[1;32mnot\u001b[0m \u001b[1;32mNone\u001b[0m\u001b[1;33m:\u001b[0m\u001b[1;33m\u001b[0m\u001b[0m\n\u001b[0;32m    327\u001b[0m             \u001b[0m_current_indent_level\u001b[0m \u001b[1;33m-=\u001b[0m \u001b[1;36m1\u001b[0m\u001b[1;33m\u001b[0m\u001b[0m\n",
      "\u001b[1;32mC:\\ProgramData\\Anaconda3\\lib\\json\\encoder.py\u001b[0m in \u001b[0;36m_iterencode\u001b[1;34m(o, _current_indent_level)\u001b[0m\n\u001b[0;32m    436\u001b[0m                     \u001b[1;32mraise\u001b[0m \u001b[0mValueError\u001b[0m\u001b[1;33m(\u001b[0m\u001b[1;34m\"Circular reference detected\"\u001b[0m\u001b[1;33m)\u001b[0m\u001b[1;33m\u001b[0m\u001b[0m\n\u001b[0;32m    437\u001b[0m                 \u001b[0mmarkers\u001b[0m\u001b[1;33m[\u001b[0m\u001b[0mmarkerid\u001b[0m\u001b[1;33m]\u001b[0m \u001b[1;33m=\u001b[0m \u001b[0mo\u001b[0m\u001b[1;33m\u001b[0m\u001b[0m\n\u001b[1;32m--> 438\u001b[1;33m             \u001b[0mo\u001b[0m \u001b[1;33m=\u001b[0m \u001b[0m_default\u001b[0m\u001b[1;33m(\u001b[0m\u001b[0mo\u001b[0m\u001b[1;33m)\u001b[0m\u001b[1;33m\u001b[0m\u001b[0m\n\u001b[0m\u001b[0;32m    439\u001b[0m             \u001b[1;32myield\u001b[0m \u001b[1;32mfrom\u001b[0m \u001b[0m_iterencode\u001b[0m\u001b[1;33m(\u001b[0m\u001b[0mo\u001b[0m\u001b[1;33m,\u001b[0m \u001b[0m_current_indent_level\u001b[0m\u001b[1;33m)\u001b[0m\u001b[1;33m\u001b[0m\u001b[0m\n\u001b[0;32m    440\u001b[0m             \u001b[1;32mif\u001b[0m \u001b[0mmarkers\u001b[0m \u001b[1;32mis\u001b[0m \u001b[1;32mnot\u001b[0m \u001b[1;32mNone\u001b[0m\u001b[1;33m:\u001b[0m\u001b[1;33m\u001b[0m\u001b[0m\n",
      "\u001b[1;32mC:\\ProgramData\\Anaconda3\\lib\\json\\encoder.py\u001b[0m in \u001b[0;36mdefault\u001b[1;34m(self, o)\u001b[0m\n\u001b[0;32m    177\u001b[0m \u001b[1;33m\u001b[0m\u001b[0m\n\u001b[0;32m    178\u001b[0m         \"\"\"\n\u001b[1;32m--> 179\u001b[1;33m         raise TypeError(f'Object of type {o.__class__.__name__} '\n\u001b[0m\u001b[0;32m    180\u001b[0m                         f'is not JSON serializable')\n\u001b[0;32m    181\u001b[0m \u001b[1;33m\u001b[0m\u001b[0m\n",
      "\u001b[1;31mTypeError\u001b[0m: Object of type football_player is not JSON serializable"
     ]
    }
   ],
   "source": [
    "import json\n",
    "\n",
    "data = {}  \n",
    "data['Player'] = []  \n",
    "data['Player'].append({  \n",
    "    'name': 'Drew Brees',\n",
    "    'number': '09',\n",
    "    'position': 'QB'\n",
    "})\n",
    "\n",
    "\n",
    "with open('data.txt', 'w') as outfile:  \n",
    "    json.dump(data, outfile)\n",
    "\n",
    "\n",
    "with open('players.json', mode='w') as f:\n",
    "    json.dump(players, f)\n",
    "    \n",
    "    "
   ]
  },
  {
   "cell_type": "markdown",
   "metadata": {},
   "source": [
    "### Question 2. \n",
    "Why is shelves preferred over pickle for large data sets?  "
   ]
  },
  {
   "cell_type": "markdown",
   "metadata": {},
   "source": [
    "Answer:\n",
    "Pickle is for serializing some object as a bytestream in a file.\n",
    "Shelve builds on top of pickle, and implements a serialization dictionary where objects are pickled, but associated with a key (some string), so you can load your shelved data file and access your pickled objects via keys. \n",
    "Applying both to datastreams menas that pickle will run slower, while shelves will save memory with a smart approach to repeated values."
   ]
  },
  {
   "cell_type": "markdown",
   "metadata": {},
   "source": [
    "### Question 3. \n",
    "Using SQL Queries, create a database using python's sqlite3 module  \n",
    "\n",
    "We would like to have a database for an Role playing game.  In this database there are 3 tables.  \n",
    "\n",
    "Character table.  \n",
    "<pre>\n",
    "CharacterId INTEGER, Name TEXT, Race TEXT, Gender TEXT, Class TEXT, Health INTEGER, Mana INTEGER, InventoryID INTEGER\n",
    "</pre>\n",
    "Inventory table.\n",
    "<pre>\n",
    "InventoryId INTEGER, ItemId INTEGER, Quantity INTEGER\n",
    "</pre>\n",
    "\n",
    "Item table\n",
    "<pre>\n",
    "ItemId INTEGER, ItemName TEXT, ItemDescription TEXT, Consumable TINYINT \n",
    "</pre>\n",
    "\n",
    "Insert the following entries once the tables are created\n",
    "<pre>\n",
    "CharacterId, Race, Gender, Class, Health, Mana, InventoryId\n",
    "0, Bruce, Human, Male, Fighter, 100, 0, 0\n",
    "1, Thrall, Orc, Male, Warrior, 120, 0, 1\n",
    "2, Legolas, Elf, Male, Archer, 100, 0, 2\n",
    "3, Edwyrd, Elf, Male, Fighter, 100, 0, 3\n",
    "4, Lixiss, Elf, Female, Mage, 80, 100, 4\n",
    "5, Jasmine, Fairy, Female, Mage, 80, 120, 5\n",
    "</pre>\n",
    "\n",
    "Insert the following entires to the Items table\n",
    "<pre>\n",
    "ItemId, ItemName, ItemDescription, Consumable\n",
    "0, sword, a sharp blade, 0\n",
    "1, axe, good for chopping things, 0\n",
    "2, hammer, heavy but good for blacksmiths, 0\n",
    "3, staff, long reaching stick, 0\n",
    "4, bow, good for long ranged attacks, 0\n",
    "5, quiver of arrows, required by the bow, 0\n",
    "6, book, full of spells, 0\n",
    "7, light mana potion, replish mana, 1\n",
    "8, med mana potion, replish more mana, 1\n",
    "9, light health potion, cures light wounds, 1\n",
    "10, med health potion, cures medium wounds, 1\n",
    "</pre>\n",
    "\n",
    "Insert the following entries to the Inventory table\n",
    "<pre>\n",
    "InventoryId, ItemId, Quantity\n",
    "0, 0, 1\n",
    "0, 9, 5\n",
    "1, 1, 1\n",
    "1, 9, 2\n",
    "1, 10, 2\n",
    "2, 4, 1\n",
    "2, 5, 30\n",
    "2, 9, 4\n",
    "3, 0, 1\n",
    "3, 9, 4\n",
    "4, 3, 1\n",
    "4, 7, 5\n",
    "5, 6, 1\n",
    "5, 8, 3\n",
    "</pre>\n",
    "\n",
    "\n"
   ]
  },
  {
   "cell_type": "code",
   "execution_count": 4,
   "metadata": {},
   "outputs": [
    {
     "data": {
      "text/plain": [
       "<sqlite3.Cursor at 0x16b7ce62880>"
      ]
     },
     "execution_count": 4,
     "metadata": {},
     "output_type": "execute_result"
    }
   ],
   "source": [
    "import sqlite3\n",
    "\n",
    "db = sqlite3.connect('rpg_characters.sqlite')\n",
    "db.execute(\"CREATE TABLE IF NOT EXISTS Characters ( CharacterId INTEGER, Name TEXT, Race TEXT, Gender TEXT, Class TEXT, Health INTEGER, Mana INTEGER, InventoryID INTEGER)\")\n",
    "db.execute(\"INSERT INTO Characters ( CharacterId, Name, Race, Gender, Class, Health, Mana, InventoryID) VALUES (0, 'Bruce', 'Human', 'Male', 'Fighter', 100, 0, 0) \")\n",
    "db.execute(\"INSERT INTO Characters ( CharacterId, Name, Race, Gender, Class, Health, Mana, InventoryID) VALUES (1, 'Thrall', 'Orc', 'Male', 'Warrior', 120, 0, 1) \")\n",
    "db.execute(\"INSERT INTO Characters ( CharacterId, Name, Race, Gender, Class, Health, Mana, InventoryID) VALUES (2, 'Legolas', 'Elf', 'Male', 'Archer', 100, 0, 2) \")\n",
    "db.execute(\"INSERT INTO Characters ( CharacterId, Name, Race, Gender, Class, Health, Mana, InventoryID) VALUES (3, 'Edwyrd', 'Elf', 'Male', 'Fighter', 100, 0, 3) \")\n",
    "db.execute(\"INSERT INTO Characters ( CharacterId, Name, Race, Gender, Class, Health, Mana, InventoryID) VALUES (4, 'Lixiss', 'Elf', 'Female', 'Mage', 80, 100, 4) \")\n",
    "db.execute(\"INSERT INTO Characters ( CharacterId, Name, Race, Gender, Class, Health, Mana, InventoryID) VALUES (5, 'Jasmine', 'Fairy', 'Female', 'Mage', 80, 120, 5) \")\n",
    "\n",
    "db = sqlite3.connect('rpg_inventory.sqlite')\n",
    "db.execute(\"CREATE TABLE IF NOT EXISTS Inventory ( InventoryId INTEGER, ItemId INTEGER, Quantity INTEGER)\")\n",
    "db.execute(\"INSERT INTO Inventory ( InventoryId, ItemId, Quantity) VALUES (0, 0, 1) \")\n",
    "db.execute(\"INSERT INTO Inventory ( InventoryId, ItemId, Quantity) VALUES (0, 9, 5) \")\n",
    "db.execute(\"INSERT INTO Inventory ( InventoryId, ItemId, Quantity) VALUES (1, 1, 1) \")\n",
    "db.execute(\"INSERT INTO Inventory ( InventoryId, ItemId, Quantity) VALUES (1, 9, 2) \")\n",
    "db.execute(\"INSERT INTO Inventory ( InventoryId, ItemId, Quantity) VALUES (1, 10, 2) \")\n",
    "db.execute(\"INSERT INTO Inventory ( InventoryId, ItemId, Quantity) VALUES (2, 4, 1) \")\n",
    "db.execute(\"INSERT INTO Inventory ( InventoryId, ItemId, Quantity) VALUES (2, 5, 30) \")\n",
    "db.execute(\"INSERT INTO Inventory ( InventoryId, ItemId, Quantity) VALUES (2, 9, 4) \")\n",
    "db.execute(\"INSERT INTO Inventory ( InventoryId, ItemId, Quantity) VALUES (3, 0, 1) \")\n",
    "db.execute(\"INSERT INTO Inventory ( InventoryId, ItemId, Quantity) VALUES (3, 9, 4) \")\n",
    "db.execute(\"INSERT INTO Inventory ( InventoryId, ItemId, Quantity) VALUES (4, 3, 1) \")\n",
    "db.execute(\"INSERT INTO Inventory ( InventoryId, ItemId, Quantity) VALUES (4, 7, 5) \")\n",
    "db.execute(\"INSERT INTO Inventory ( InventoryId, ItemId, Quantity) VALUES (5, 6, 1) \")\n",
    "db.execute(\"INSERT INTO Inventory ( InventoryId, ItemId, Quantity) VALUES (5, 8, 3) \")\n",
    "\n",
    "db = sqlite3.connect('rpg_item_table.sqlite')\n",
    "db.execute(\"CREATE TABLE IF NOT EXISTS Itemtable ( ItemId INTEGER, ItemName TEXT, ItemDescription TEXT, Consumable TINYINT)\")\n",
    "db.execute(\"INSERT INTO Itemtable (ItemId, ItemName, ItemDescription, Consumable) VALUES (0, 'sword', 'a sharp blade', 0) \")\n",
    "db.execute(\"INSERT INTO Itemtable (ItemId, ItemName, ItemDescription, Consumable) VALUES (1, 'axe', 'good for chopping things', 0) \")\n",
    "db.execute(\"INSERT INTO Itemtable (ItemId, ItemName, ItemDescription, Consumable) VALUES (2, 'hammer', 'heavy but good for blacksmiths', 0) \")\n",
    "db.execute(\"INSERT INTO Itemtable (ItemId, ItemName, ItemDescription, Consumable) VALUES (3, 'staff', 'long reaching stick', 0) \")\n",
    "db.execute(\"INSERT INTO Itemtable (ItemId, ItemName, ItemDescription, Consumable) VALUES (4, 'bow', 'good for long ranged attacks', 0) \")\n",
    "db.execute(\"INSERT INTO Itemtable (ItemId, ItemName, ItemDescription, Consumable) VALUES (5, 'quiver of arrows', 'required by the bow', 0) \")\n",
    "db.execute(\"INSERT INTO Itemtable (ItemId, ItemName, ItemDescription, Consumable) VALUES (6, 'book', 'full of spells', 0) \")\n",
    "db.execute(\"INSERT INTO Itemtable (ItemId, ItemName, ItemDescription, Consumable) VALUES (7, 'light mana potion', 'replish mana', 1) \")\n",
    "db.execute(\"INSERT INTO Itemtable (ItemId, ItemName, ItemDescription, Consumable) VALUES (8, 'med mana potion', 'replish more mana', 1) \")\n",
    "db.execute(\"INSERT INTO Itemtable (ItemId, ItemName, ItemDescription, Consumable) VALUES (9, 'light health potion', 'cures light wounds', 1) \")\n",
    "db.execute(\"INSERT INTO Itemtable (ItemId, ItemName, ItemDescription, Consumable) VALUES (10, 'med health potion', 'cures medium wounds', 1) \")\n",
    "\n"
   ]
  },
  {
   "cell_type": "markdown",
   "metadata": {},
   "source": [
    "Once all the data have been added, do the following:\n",
    "\n",
    "a. display all the characters, display all the items ( this will require SELECT * statement)  \n",
    "b. display only the character who are elves (this will require the WHERE clause)  \n",
    "c. display the inventory for each character (this will require a INNER JOIN with the 3 tables)  \n"
   ]
  },
  {
   "cell_type": "code",
   "execution_count": 11,
   "metadata": {},
   "outputs": [
    {
     "ename": "OperationalError",
     "evalue": "no such table: Characters",
     "output_type": "error",
     "traceback": [
      "\u001b[1;31m---------------------------------------------------------------------------\u001b[0m",
      "\u001b[1;31mOperationalError\u001b[0m                          Traceback (most recent call last)",
      "\u001b[1;32m<ipython-input-11-dac3b64d1a27>\u001b[0m in \u001b[0;36m<module>\u001b[1;34m()\u001b[0m\n\u001b[0;32m     13\u001b[0m \u001b[0mdb\u001b[0m \u001b[1;33m=\u001b[0m \u001b[0msqlite3\u001b[0m\u001b[1;33m.\u001b[0m\u001b[0mconnect\u001b[0m\u001b[1;33m(\u001b[0m\u001b[1;34m'rpg_item_table.sqlite'\u001b[0m\u001b[1;33m)\u001b[0m\u001b[1;33m\u001b[0m\u001b[0m\n\u001b[0;32m     14\u001b[0m \u001b[0mcursor\u001b[0m \u001b[1;33m=\u001b[0m \u001b[0mdb\u001b[0m\u001b[1;33m.\u001b[0m\u001b[0mcursor\u001b[0m\u001b[1;33m(\u001b[0m\u001b[1;33m)\u001b[0m\u001b[1;33m\u001b[0m\u001b[0m\n\u001b[1;32m---> 15\u001b[1;33m \u001b[1;32mfor\u001b[0m \u001b[0mrow\u001b[0m \u001b[1;32min\u001b[0m \u001b[0mcursor\u001b[0m\u001b[1;33m.\u001b[0m\u001b[0mexecute\u001b[0m\u001b[1;33m(\u001b[0m\u001b[1;34m\"SELECT * FROM Characters WHERE Class ='Elf'\"\u001b[0m\u001b[1;33m)\u001b[0m\u001b[1;33m:\u001b[0m\u001b[1;33m\u001b[0m\u001b[0m\n\u001b[0m\u001b[0;32m     16\u001b[0m     \u001b[0mprint\u001b[0m\u001b[1;33m(\u001b[0m\u001b[0mrow\u001b[0m\u001b[1;33m)\u001b[0m\u001b[1;33m\u001b[0m\u001b[0m\n\u001b[0;32m     17\u001b[0m \u001b[1;33m\u001b[0m\u001b[0m\n",
      "\u001b[1;31mOperationalError\u001b[0m: no such table: Characters"
     ]
    }
   ],
   "source": [
    "db = sqlite3.connect('rpg_characters.sqlite')\n",
    "cursor = db.cursor()\n",
    "for row in cursor.execute(\"SELECT * FROM Characters\"):\n",
    "    print(row)\n",
    "\n",
    "#--------------------------------------------------------\n",
    "db = sqlite3.connect('rpg_item_table.sqlite')\n",
    "cursor = db.cursor()\n",
    "for row in cursor.execute(\"SELECT * FROM Itemtable\"):\n",
    "    print(row)\n",
    "    \n",
    "#--------------------------------------------------------  \n",
    "db = sqlite3.connect('rpg_item_table.sqlite')\n",
    "cursor = db.cursor()\n",
    "for row in cursor.execute(\"SELECT * FROM Characters WHERE Class ='Elf'\"):\n",
    "    print(row)   \n",
    "    \n",
    "cursor = db.cursor()\n",
    "for row in cursor.execute(\"SELECT * FROM Itemtable INNER JOIN Inventory ON Characters.InventoryID\"):\n",
    "    print(row)\n"
   ]
  },
  {
   "cell_type": "code",
   "execution_count": null,
   "metadata": {},
   "outputs": [],
   "source": []
  }
 ],
 "metadata": {
  "kernelspec": {
   "display_name": "Python 3",
   "language": "python",
   "name": "python3"
  },
  "language_info": {
   "codemirror_mode": {
    "name": "ipython",
    "version": 3
   },
   "file_extension": ".py",
   "mimetype": "text/x-python",
   "name": "python",
   "nbconvert_exporter": "python",
   "pygments_lexer": "ipython3",
   "version": "3.7.0"
  }
 },
 "nbformat": 4,
 "nbformat_minor": 2
}
