{
 "cells": [
  {
   "cell_type": "markdown",
   "metadata": {},
   "source": [
    "# VGP 245\n",
    "## Read Write Files, Pickle, Json, Shelve, and SQLite3\n",
    "\n"
   ]
  },
  {
   "cell_type": "markdown",
   "metadata": {},
   "source": [
    "To open a file use the method __open__"
   ]
  },
  {
   "cell_type": "code",
   "execution_count": 1,
   "metadata": {},
   "outputs": [
    {
     "name": "stdout",
     "output_type": "stream",
     "text": [
      "Overwriting mytext.txt\n"
     ]
    }
   ],
   "source": [
    "%%writefile mytext.txt\n",
    "Today is a rainy day\n",
    "maybe it's time to bring an umbrella"
   ]
  },
  {
   "cell_type": "code",
   "execution_count": 2,
   "metadata": {},
   "outputs": [
    {
     "data": {
      "text/plain": [
       "\"Today is a rainy day\\nmaybe it's time to bring an umbrella\""
      ]
     },
     "execution_count": 2,
     "metadata": {},
     "output_type": "execute_result"
    }
   ],
   "source": [
    "f = open('mytext.txt')\n",
    "f.read()"
   ]
  },
  {
   "cell_type": "code",
   "execution_count": 3,
   "metadata": {},
   "outputs": [
    {
     "data": {
      "text/plain": [
       "''"
      ]
     },
     "execution_count": 3,
     "metadata": {},
     "output_type": "execute_result"
    }
   ],
   "source": [
    "f.read()"
   ]
  },
  {
   "cell_type": "code",
   "execution_count": 4,
   "metadata": {},
   "outputs": [
    {
     "data": {
      "text/plain": [
       "0"
      ]
     },
     "execution_count": 4,
     "metadata": {},
     "output_type": "execute_result"
    }
   ],
   "source": [
    "f.seek(0)"
   ]
  },
  {
   "cell_type": "code",
   "execution_count": 5,
   "metadata": {},
   "outputs": [
    {
     "data": {
      "text/plain": [
       "\"Today is a rainy day\\nmaybe it's time to bring an umbrella\""
      ]
     },
     "execution_count": 5,
     "metadata": {},
     "output_type": "execute_result"
    }
   ],
   "source": [
    "f.read()"
   ]
  },
  {
   "cell_type": "code",
   "execution_count": 6,
   "metadata": {},
   "outputs": [],
   "source": [
    "f.close()"
   ]
  },
  {
   "cell_type": "code",
   "execution_count": 7,
   "metadata": {},
   "outputs": [
    {
     "name": "stdout",
     "output_type": "stream",
     "text": [
      "Today is a rainy day\n",
      "maybe it's time to bring an umbrella\n"
     ]
    },
    {
     "ename": "UnsupportedOperation",
     "evalue": "not writable",
     "output_type": "error",
     "traceback": [
      "\u001b[1;31m---------------------------------------------------------------------------\u001b[0m",
      "\u001b[1;31mUnsupportedOperation\u001b[0m                      Traceback (most recent call last)",
      "\u001b[1;32m<ipython-input-7-7e8a89ab7f26>\u001b[0m in \u001b[0;36m<module>\u001b[1;34m()\u001b[0m\n\u001b[0;32m      1\u001b[0m \u001b[1;32mwith\u001b[0m \u001b[0mopen\u001b[0m\u001b[1;33m(\u001b[0m\u001b[1;34m'mytext.txt'\u001b[0m\u001b[1;33m)\u001b[0m \u001b[1;32mas\u001b[0m \u001b[0mf\u001b[0m\u001b[1;33m:\u001b[0m\u001b[1;33m\u001b[0m\u001b[0m\n\u001b[0;32m      2\u001b[0m     \u001b[0mprint\u001b[0m\u001b[1;33m(\u001b[0m\u001b[0mf\u001b[0m\u001b[1;33m.\u001b[0m\u001b[0mread\u001b[0m\u001b[1;33m(\u001b[0m\u001b[1;33m)\u001b[0m\u001b[1;33m)\u001b[0m\u001b[1;33m\u001b[0m\u001b[0m\n\u001b[1;32m----> 3\u001b[1;33m     \u001b[0mf\u001b[0m\u001b[1;33m.\u001b[0m\u001b[0mwrite\u001b[0m\u001b[1;33m(\u001b[0m\u001b[1;34m'?'\u001b[0m\u001b[1;33m)\u001b[0m\u001b[1;33m\u001b[0m\u001b[0m\n\u001b[0m",
      "\u001b[1;31mUnsupportedOperation\u001b[0m: not writable"
     ]
    }
   ],
   "source": [
    "with open('mytext.txt') as f:\n",
    "    print(f.read())\n",
    "    f.write('?')"
   ]
  },
  {
   "cell_type": "code",
   "execution_count": null,
   "metadata": {},
   "outputs": [],
   "source": [
    "with open('mytext2.txt', mode='w') as f:\n",
    "    f.write('\\n Nice T-shirt')"
   ]
  },
  {
   "cell_type": "code",
   "execution_count": null,
   "metadata": {},
   "outputs": [],
   "source": [
    "with open('mytext2.txt', mode='a') as f:\n",
    "    f.write('\\n Cool another T-shirt')"
   ]
  },
  {
   "cell_type": "code",
   "execution_count": 9,
   "metadata": {},
   "outputs": [
    {
     "name": "stdout",
     "output_type": "stream",
     "text": [
      "Bobby 100 80\n"
     ]
    }
   ],
   "source": [
    "class Character: \n",
    "    '''An RPG Character'''\n",
    "    def __init__(self, name, hp, mp):\n",
    "        self.name = name\n",
    "        self.hp = hp\n",
    "        self.mp = mp\n",
    "        \n",
    "    def attack(self):\n",
    "        self.mp -=1\n",
    "    \n",
    "    def hit(self):\n",
    "        self.hp -= 1\n",
    "        \n",
    "    def __str__(self):\n",
    "        return f'{self.name} {self.hp} {self.mp}'\n",
    "        \n",
    "warrior1 = Character('Bobby', 100, 80)\n",
    "warrior2 = Character('Juan', 100, 80)\n",
    "warrior3 = Character('Gil', 100, 80)\n",
    "warrior4 = Character('Matt', 100, 80)\n",
    "\n",
    "warriors = [warrior1, warrior2, warrior3, warrior4]\n",
    "\n",
    "print(str(warrior1))\n",
    "\n",
    "#with open('warriors.txt', mode='w') as f:\n",
    "#    f.write(warriors)\n",
    "\n"
   ]
  },
  {
   "cell_type": "code",
   "execution_count": 10,
   "metadata": {},
   "outputs": [
    {
     "ename": "TypeError",
     "evalue": "write() argument must be str, not Character",
     "output_type": "error",
     "traceback": [
      "\u001b[1;31m---------------------------------------------------------------------------\u001b[0m",
      "\u001b[1;31mTypeError\u001b[0m                                 Traceback (most recent call last)",
      "\u001b[1;32m<ipython-input-10-44ff074f4744>\u001b[0m in \u001b[0;36m<module>\u001b[1;34m()\u001b[0m\n\u001b[0;32m      1\u001b[0m \u001b[1;32mwith\u001b[0m \u001b[0mopen\u001b[0m\u001b[1;33m(\u001b[0m\u001b[1;34m'warriors.txt'\u001b[0m\u001b[1;33m,\u001b[0m \u001b[0mmode\u001b[0m\u001b[1;33m=\u001b[0m\u001b[1;34m'w'\u001b[0m\u001b[1;33m)\u001b[0m \u001b[1;32mas\u001b[0m \u001b[0mf\u001b[0m\u001b[1;33m:\u001b[0m\u001b[1;33m\u001b[0m\u001b[0m\n\u001b[0;32m      2\u001b[0m     \u001b[1;32mfor\u001b[0m \u001b[0mwarrior\u001b[0m \u001b[1;32min\u001b[0m \u001b[0mwarriors\u001b[0m\u001b[1;33m:\u001b[0m\u001b[1;33m\u001b[0m\u001b[0m\n\u001b[1;32m----> 3\u001b[1;33m         \u001b[0mf\u001b[0m\u001b[1;33m.\u001b[0m\u001b[0mwrite\u001b[0m\u001b[1;33m(\u001b[0m\u001b[0mwarrior\u001b[0m\u001b[1;33m)\u001b[0m\u001b[1;33m\u001b[0m\u001b[0m\n\u001b[0m",
      "\u001b[1;31mTypeError\u001b[0m: write() argument must be str, not Character"
     ]
    }
   ],
   "source": [
    "with open('warriors.txt', mode='w') as f:\n",
    "    for warrior in warriors:\n",
    "        f.write(warrior)\n"
   ]
  },
  {
   "cell_type": "code",
   "execution_count": 11,
   "metadata": {},
   "outputs": [],
   "source": [
    "with open('warriors.txt', mode='w') as f:\n",
    "    for warrior in warriors:\n",
    "        f.write(str(warrior))\n"
   ]
  },
  {
   "cell_type": "code",
   "execution_count": 12,
   "metadata": {},
   "outputs": [],
   "source": [
    "import pickle\n",
    "\n",
    "with open('warriorz.rando', mode='wb') as f:\n",
    "    pickle.dump(warriors, f)"
   ]
  },
  {
   "cell_type": "code",
   "execution_count": null,
   "metadata": {},
   "outputs": [],
   "source": [
    "\n",
    "with open('warriorz.rando', mode='rb') as f:\n",
    "    warriors2 = pickle.load(f)\n",
    "\n",
    "for warrior in  warriors2:\n",
    "    print(str(warrior))\n"
   ]
  },
  {
   "cell_type": "code",
   "execution_count": null,
   "metadata": {},
   "outputs": [],
   "source": [
    "import json\n",
    "\n",
    "with open('warriors.json', mode='w') as f:\n",
    "    json.dump(warriors, f)"
   ]
  },
  {
   "cell_type": "code",
   "execution_count": null,
   "metadata": {},
   "outputs": [],
   "source": [
    "warrior1.__dict__\n",
    "#json.dumps(warriors)"
   ]
  },
  {
   "cell_type": "code",
   "execution_count": null,
   "metadata": {},
   "outputs": [],
   "source": [
    "import json\n",
    "\n",
    "with open('warriors.json', mode='w') as f:\n",
    "    json.dump(warriors.__dict__, f)"
   ]
  },
  {
   "cell_type": "code",
   "execution_count": null,
   "metadata": {},
   "outputs": [],
   "source": [
    "import json\n",
    "\n",
    "warriors_dict_list = []\n",
    "for warrior in warriors:\n",
    "        warriors_dict_list.append(warrior.__dict__)\n",
    "\n",
    "with open('warriors.json', mode='w') as f:\n",
    "    json.dump(warriors_dict_list, f)"
   ]
  },
  {
   "cell_type": "code",
   "execution_count": null,
   "metadata": {},
   "outputs": [],
   "source": [
    "with open('warriors.json', mode='r') as f:\n",
    "    warriors3 = json.load(f)\n",
    "    \n",
    "print(warriors3)"
   ]
  },
  {
   "cell_type": "code",
   "execution_count": null,
   "metadata": {},
   "outputs": [],
   "source": [
    "import shelve\n",
    "\n",
    "with shelve.open('shelvewarrior') as db:\n",
    "    db['warriors'] = warriors\n"
   ]
  },
  {
   "cell_type": "code",
   "execution_count": null,
   "metadata": {},
   "outputs": [],
   "source": [
    "shelved_warriors = []\n",
    "with shelve.open('shelvewarrior', writeback=True) as db:\n",
    "    shelved_warriors = db['warriors']\n",
    "    db['warriors'].append(Character('Jimmy', 110, 10))\n",
    "    \n",
    "    #db['warriors'] = shelved_warriors \n",
    "    \n",
    "for warrior in shelved_warriors:\n",
    "    print(str(warrior))\n"
   ]
  },
  {
   "cell_type": "code",
   "execution_count": null,
   "metadata": {},
   "outputs": [],
   "source": [
    "import sqlite3\n",
    "\n",
    "db = sqlite3.connect('contacts.sqlite')\n",
    "db.execute(\"CREATE TABLE IF NOT EXISTS Contacts ( ContactID INTEGER, FirstName TEXT, LastName TEXT)\")\n",
    "#db.execute(\"INSERT INTO Contacts ( ContactID, FirstName, LastName) VALUES (0, 'Lawrence', 'Cheung') \")\n",
    "#db.execute(\"INSERT INTO Contacts ( ContactID, FirstName, LastName) VALUES (1, 'Bobby', 123) \")\n",
    "#db.execute(\"INSERT INTO Contacts ( ContactID, FirstName, LastName) VALUES (2, 'Billy', 'M') \")\n",
    "#db.execute(\"INSERT INTO Contacts ( ContactID, FirstName, LastName) VALUES (3, 'Jimmy', 'K') \")\n",
    "#db.execute(\"INSERT INTO Contacts ( ContactID, FirstName, LastName) VALUES (4, 'Bimmy', 'J') \")\n",
    "\n",
    "cursor = db.cursor()\n",
    "for row in cursor.execute(\"SELECT * FROM Contacts\"):\n",
    "    print(row)\n",
    "\n",
    "#for ContactID, FirstName, LastName in cursor.execute(\"SELECT * FROM Contacts\"):\n",
    "#    print(ContactID)\n",
    "#    print(FirstName)\n",
    "#    print(LastName)\n",
    "\n",
    "for FirstName in cursor.execute(\"SELECT FirstName FROM Contacts\"):\n",
    "    print(FirstName)\n",
    "\n",
    "cursor.close()\n",
    "\n",
    "db.commit()\n",
    "db.close()\n"
   ]
  },
  {
   "cell_type": "code",
   "execution_count": null,
   "metadata": {},
   "outputs": [],
   "source": [
    "db = sqlite3.connect('contacts.sqlite')\n",
    "\n",
    "cursor = db.cursor()\n",
    "cursor.execute(\"SELECT * FROM Contacts\")\n",
    "#for row in cursor.execute(\"SELECT * FROM Contacts\"):\n",
    "#    print(row)\n",
    "\n",
    "print(cursor.fetchall())\n",
    "# print(cursor.fetchone())\n",
    "# print(cursor.fetchone())\n",
    "\n",
    "cursor.close()\n",
    "\n",
    "db.close()"
   ]
  },
  {
   "cell_type": "code",
   "execution_count": null,
   "metadata": {},
   "outputs": [],
   "source": []
  }
 ],
 "metadata": {
  "kernelspec": {
   "display_name": "Python 3",
   "language": "python",
   "name": "python3"
  },
  "language_info": {
   "codemirror_mode": {
    "name": "ipython",
    "version": 3
   },
   "file_extension": ".py",
   "mimetype": "text/x-python",
   "name": "python",
   "nbconvert_exporter": "python",
   "pygments_lexer": "ipython3",
   "version": "3.7.0"
  }
 },
 "nbformat": 4,
 "nbformat_minor": 2
}
