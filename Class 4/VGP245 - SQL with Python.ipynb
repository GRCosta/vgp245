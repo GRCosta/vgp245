{
 "cells": [
  {
   "cell_type": "markdown",
   "metadata": {},
   "source": [
    "# SQL with Python"
   ]
  },
  {
   "cell_type": "code",
   "execution_count": 7,
   "metadata": {},
   "outputs": [
    {
     "name": "stdout",
     "output_type": "stream",
     "text": [
      "(0, 'Gil', 'Costa')\n",
      "(1, 'Joseph', 'Klimber')\n",
      "(2, 'José', 'Ruela')\n",
      "(3, 'Maria', 'Candongas')\n",
      "(4, 'John', 'Snow')\n"
     ]
    }
   ],
   "source": [
    "import sqlite3\n",
    "\n",
    "db = sqlite3.connect('contacts.sqlite')\n",
    "db.execute(\"CREATE TABLE IF NOT EXISTS Contacts (ContactID INTEGER, FirstName TEXT, LastName TEXT)\")\n",
    "db.execute(\"INSERT INTO Contacts (ContactID, FirstName, LastName) VALUES (0, 'Gil', 'Costa')\")\n",
    "db.execute(\"INSERT INTO Contacts (ContactID, FirstName, LastName) VALUES (1, 'Joseph', 'Klimber')\")\n",
    "db.execute(\"INSERT INTO Contacts (ContactID, FirstName, LastName) VALUES (2, 'José', 'Ruela')\")\n",
    "db.execute(\"INSERT INTO Contacts (ContactID, FirstName, LastName) VALUES (3, 'Maria', 'Candongas')\")\n",
    "db.execute(\"INSERT INTO Contacts (ContactID, FirstName, LastName) VALUES (4, 'John', 'Snow')\")\n",
    "\n",
    "cursor = db.cursor()\n",
    "for row in cursor.execute(\"SELECT * FROM Contacts\"):\n",
    "    print(row)\n",
    "cursor.close()\n",
    "\n",
    "db.close()"
   ]
  },
  {
   "cell_type": "code",
   "execution_count": null,
   "metadata": {},
   "outputs": [],
   "source": []
  }
 ],
 "metadata": {
  "kernelspec": {
   "display_name": "Python 3",
   "language": "python",
   "name": "python3"
  },
  "language_info": {
   "codemirror_mode": {
    "name": "ipython",
    "version": 3
   },
   "file_extension": ".py",
   "mimetype": "text/x-python",
   "name": "python",
   "nbconvert_exporter": "python",
   "pygments_lexer": "ipython3",
   "version": "3.7.0"
  }
 },
 "nbformat": 4,
 "nbformat_minor": 2
}
