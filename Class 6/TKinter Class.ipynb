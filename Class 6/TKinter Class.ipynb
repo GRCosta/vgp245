{
 "cells": [
  {
   "cell_type": "code",
   "execution_count": 20,
   "metadata": {},
   "outputs": [],
   "source": [
    "import tkinter as tk\n",
    "root = tk.Tk()\n",
    "\n",
    "root.title(\"Metal Gear Solid\")\n",
    "#img = tk.PhotoImage(file='solid snake.png')\n",
    "w = tk.Label(root, text = \"Hello Class\")\n",
    "w.pack()\n",
    "\n",
    "#root.mainloop()"
   ]
  },
  {
   "cell_type": "markdown",
   "metadata": {},
   "source": [
    "### Buttons\n",
    "\n"
   ]
  },
  {
   "cell_type": "code",
   "execution_count": 24,
   "metadata": {},
   "outputs": [],
   "source": [
    "import tkinter as tk\n",
    "\n",
    "\n",
    "def write_something():\n",
    "    print(\"You pressed me!\")\n",
    "    \n",
    "    \n",
    "def increment():\n",
    "    return count.set(count.get()+1)\n",
    "    \n",
    "    \n",
    "root = tk.Tk()\n",
    "count = tk.IntVar()    \n",
    "\n",
    "frame = tk.Frame(root)\n",
    "frame.pack()\n",
    "\n",
    "label = tk.Label(frame, textvariable = count)\n",
    "\n",
    "label.pack()\n",
    "\n",
    "button = tk.Button(frame, text=\"Quit\", fg = 'red', command=quit)\n",
    "button.pack(side = tk.LEFT)\n",
    "\n",
    "button2 = tk.Button(frame, text=\"Click here!\", fg = 'blue', command=increment)\n",
    "button2.pack(side = tk.RIGHT)\n",
    "\n",
    "root.mainloop()"
   ]
  },
  {
   "cell_type": "code",
   "execution_count": null,
   "metadata": {},
   "outputs": [],
   "source": []
  }
 ],
 "metadata": {
  "kernelspec": {
   "display_name": "Python 3",
   "language": "python",
   "name": "python3"
  },
  "language_info": {
   "codemirror_mode": {
    "name": "ipython",
    "version": 3
   },
   "file_extension": ".py",
   "mimetype": "text/x-python",
   "name": "python",
   "nbconvert_exporter": "python",
   "pygments_lexer": "ipython3",
   "version": "3.7.0"
  }
 },
 "nbformat": 4,
 "nbformat_minor": 2
}
