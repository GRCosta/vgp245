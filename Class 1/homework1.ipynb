{
 "cells": [
  {
   "cell_type": "markdown",
   "metadata": {
    "collapsed": true
   },
   "source": [
    "# VGP 245 Assignment 1\n",
    "# Python Basics"
   ]
  },
  {
   "cell_type": "markdown",
   "metadata": {},
   "source": [
    "### Question 1 - Object Types and Data Structures\n",
    "\n",
    "Give briefly describe and give an example for each of the following types\n",
    "\n",
    "Number: All values associated to numeric types, including integers, floating point and long digits.\n",
    "\n",
    "Strings: It's a sequence of characters with a termination indicator. Pretty much a sentence, like this one.\n",
    "\n",
    "Lists: Usually mutable sequences created to store collection of item of the same type. A group of names can be placed into a list, but a group of usernames (that includes symbols or numbers) cannot be added to the names list.\n",
    "\n",
    "Dictionaries: Is a special container that associates a key with a value, creating a corelation that keeps the data relational. A maternity place can create a dictionary with the date of birth and full names of the newborn babies. \n",
    "\n",
    "Tuples:Pair of immutable sequences, usually collections of heterogeneous data. It pairs the elements and keeps them associated."
   ]
  },
  {
   "cell_type": "code",
   "execution_count": 1,
   "metadata": {},
   "outputs": [
    {
     "name": "stdout",
     "output_type": "stream",
     "text": [
      "((10, 15), ('Teachers', 'Students'))\n"
     ]
    }
   ],
   "source": [
    "tuple1 = (10, 15) \n",
    "tuple2 = ('Teachers', 'Students') \n",
    "tuple3 = (tuple1, tuple2) \n",
    "print(tuple3) "
   ]
  },
  {
   "cell_type": "markdown",
   "metadata": {},
   "source": [
    "### Question 2 - Numbers\n",
    "\n",
    "Write an equation that can calculate the total amount earned in a week if a person worked 4 hours a day, 5 days a week, and \n",
    "$25.20 per hour. "
   ]
  },
  {
   "cell_type": "code",
   "execution_count": 3,
   "metadata": {},
   "outputs": [
    {
     "name": "stdout",
     "output_type": "stream",
     "text": [
      "504.0\n"
     ]
    }
   ],
   "source": [
    "flatRate = 25.2\n",
    "hoursPerDay = 4.0\n",
    "daysPerWeek = 5.0\n",
    "\n",
    "earnedMoneyWeek = flatRate * hoursPerDay * daysPerWeek\n",
    "print(earnedMoneyWeek)\n"
   ]
  },
  {
   "cell_type": "markdown",
   "metadata": {},
   "source": [
    "### Question 3 - Numbers\n",
    "What is the result of the following?\n",
    "\n",
    "* 4 * (6 + 5)\n",
    "* 4 * 6 + 6\n",
    "* 4 + 6 * 5"
   ]
  },
  {
   "cell_type": "code",
   "execution_count": 4,
   "metadata": {},
   "outputs": [
    {
     "name": "stdout",
     "output_type": "stream",
     "text": [
      "44\n",
      "29\n",
      "34\n"
     ]
    }
   ],
   "source": [
    "a = 4 * (6 + 5)\n",
    "print(a)\n",
    "\n",
    "b = 4 * 6 + 5\n",
    "print(b)\n",
    "\n",
    "c = 4 + 6 * 5\n",
    "print(c)"
   ]
  },
  {
   "cell_type": "markdown",
   "metadata": {},
   "source": [
    "### Question 4 - Numbers\n",
    "\n",
    "Write an example of getting the square of 87 and the square root of 2304"
   ]
  },
  {
   "cell_type": "code",
   "execution_count": 8,
   "metadata": {},
   "outputs": [
    {
     "name": "stdout",
     "output_type": "stream",
     "text": [
      "64\n",
      "8.0\n"
     ]
    }
   ],
   "source": [
    "# Square operation  = **\n",
    "a = 87**2\n",
    "print(a)\n",
    "\n",
    "# Square root - requires math library\n",
    "import math\n",
    "b = math.sqrt(2304)\n",
    "print (b)"
   ]
  },
  {
   "cell_type": "markdown",
   "metadata": {},
   "source": [
    "### Question 5 - Strings\n",
    "Given the following string 'Master Chef', output the sub string 'Chef' and then reverse it"
   ]
  },
  {
   "cell_type": "code",
   "execution_count": 19,
   "metadata": {},
   "outputs": [
    {
     "name": "stdout",
     "output_type": "stream",
     "text": [
      "a\n",
      "Chef\n",
      "fehC\n"
     ]
    }
   ],
   "source": [
    "name = 'Master Chef'\n",
    "# output the second character of the string above\n",
    "secondChar = name[1:2]\n",
    "print(secondChar)\n",
    "# output Chef from above into a new variable and print it out\n",
    "lastName = name[7:11]\n",
    "print(lastName)\n",
    "# output the reverse of the variable above and print it out\n",
    "reverseName = lastName[::-1]\n",
    "print(reverseName)"
   ]
  },
  {
   "cell_type": "markdown",
   "metadata": {},
   "source": [
    "### Question 6 - List\n",
    "Build the list ['Billy', 'Jason', 'Tommy'] in 2 different ways\n"
   ]
  },
  {
   "cell_type": "code",
   "execution_count": 21,
   "metadata": {},
   "outputs": [
    {
     "name": "stdout",
     "output_type": "stream",
     "text": [
      "['Billy', 'Jason', 'Tommy']\n"
     ]
    }
   ],
   "source": [
    "# Method 1\n",
    "a = 'Billy'\n",
    "b = 'Jason'\n",
    "c = 'Tommy'\n",
    "\n",
    "list1 = [a, b, c]\n",
    "\n",
    "print(list1)"
   ]
  },
  {
   "cell_type": "code",
   "execution_count": 22,
   "metadata": {},
   "outputs": [
    {
     "name": "stdout",
     "output_type": "stream",
     "text": [
      "[]\n",
      "['Billy', 'Jason', 'Tommy']\n"
     ]
    }
   ],
   "source": [
    "# Method 2\n",
    "list2 = []\n",
    "print(list2)\n",
    "list2.append('Billy')\n",
    "list2.append('Jason')\n",
    "list2.append('Tommy')\n",
    "print(list2)\n"
   ]
  },
  {
   "cell_type": "markdown",
   "metadata": {},
   "source": [
    "Add an 'Zack' and 'Kimberly' into the list above and remove 'Tommy'"
   ]
  },
  {
   "cell_type": "code",
   "execution_count": 23,
   "metadata": {},
   "outputs": [
    {
     "name": "stdout",
     "output_type": "stream",
     "text": [
      "['Billy', 'Jason', 'Tommy', 'Zack', 'Kimberly']\n"
     ]
    }
   ],
   "source": [
    "# Add Zack and Kimberly to the list you made in Question 6\n",
    "list2.append(\"Zack\")\n",
    "list2.append(\"Kimberly\")\n",
    "print(list2)"
   ]
  },
  {
   "cell_type": "code",
   "execution_count": 24,
   "metadata": {},
   "outputs": [
    {
     "name": "stdout",
     "output_type": "stream",
     "text": [
      "['Billy', 'Jason', 'Zack', 'Kimberly']\n"
     ]
    }
   ],
   "source": [
    "# Remove Tommy from the list\n",
    "list2.remove('Tommy')\n",
    "print(list2)"
   ]
  },
  {
   "cell_type": "markdown",
   "metadata": {},
   "source": [
    "### Question 7 - List \n",
    "Sort the list below\n"
   ]
  },
  {
   "cell_type": "code",
   "execution_count": 25,
   "metadata": {},
   "outputs": [
    {
     "name": "stdout",
     "output_type": "stream",
     "text": [
      "[5, 6, 13, 14, 24, 27, 32, 37, 41]\n"
     ]
    }
   ],
   "source": [
    "my_numbers = [41, 32, 5, 37, 27, 14, 24, 13, 6]\n",
    "# hint there's a built-in function for that\n",
    "\n",
    "#Answer:\n",
    "my_numbers.sort()\n",
    "print(my_numbers)"
   ]
  },
  {
   "cell_type": "markdown",
   "metadata": {},
   "source": [
    "### Question 8 - Dictionaries\n",
    "\n",
    "Using the dictionary below, find the value from a given key."
   ]
  },
  {
   "cell_type": "code",
   "execution_count": 32,
   "metadata": {},
   "outputs": [
    {
     "name": "stdout",
     "output_type": "stream",
     "text": [
      "Green\n",
      "{'Jason': 'Red', 'Tommy': 'White', 'Billy': 'Blue', 'Zack': 'Black'}\n",
      "[{'Tommy': 'Red', 'Adam': 'Black', 'Rocky': 'Blue', 'Kat': 'Pink', 'Jason': 'Gold'}, {'Tommy': 'Red', 'Adam': 'Green', 'Justin': 'Blue', 'Kat': 'Pink'}, {'Andros': 'Red', 'Carlos': 'Black', 'TJ': 'Blue', 'Cassie': 'Pink'}]\n",
      "Tommy Red\n",
      "Adam Black\n",
      "Rocky Blue\n",
      "Kat Pink\n",
      "Jason Gold\n"
     ]
    }
   ],
   "source": [
    "rangers = { 'Jason': 'Red', 'Tommy': 'Green', 'Billy': 'Blue', 'Zack': 'Black'}\n",
    "# find out which color is Tommy from the dictionary above and print it out\n",
    "print(rangers['Tommy'])\n",
    "\n",
    "# Tommy became the 'White' ranger and is no longer the green ranger\n",
    "# Update the Tommy to reflect the changes and print it out\n",
    "rangers['Tommy'] = 'White'\n",
    "print(rangers)\n",
    "\n",
    "# It turns out there are other rangers, put them together into a list of dictionaries\n",
    "zeo_ranger = {'Tommy': 'Red', 'Adam': 'Black', 'Rocky': 'Blue', 'Kat': 'Pink', 'Jason': 'Gold'}\n",
    "turbo_ranger = {'Tommy': 'Red', 'Adam': 'Green', 'Justin': 'Blue', 'Kat': 'Pink'}\n",
    "space_ranger = {'Andros': 'Red', 'Carlos': 'Black', 'TJ': 'Blue', 'Cassie': 'Pink'}\n",
    "\n",
    "all_the_rangers  = []\n",
    "all_the_rangers = [zeo_ranger, turbo_ranger, space_ranger]\n",
    "\n",
    "print(all_the_rangers)\n",
    "\n",
    "# Find out the different how many rangers are there total\n",
    "# hint you will need a nested for loop\n",
    "for k, v in zeo_ranger.items():\n",
    "    print(k,v)"
   ]
  },
  {
   "cell_type": "markdown",
   "metadata": {},
   "source": [
    "### Quesiton 9 - Tuple\n",
    "What is the difference between a Tuple and a list?"
   ]
  },
  {
   "cell_type": "code",
   "execution_count": 33,
   "metadata": {},
   "outputs": [],
   "source": [
    "tuple_of_fruits = ('apple', 'berries', 'cherries')\n",
    "list_of_fruits = ['apple', 'berries', 'cherries']\n",
    "\n",
    "# list 2 things and show an example\n",
    "# 1. Tuples are immutable, while lists can be manipulated\n",
    "# 2. Lists needs to be of the same type of elements (only strings, or only ints and so on)"
   ]
  },
  {
   "cell_type": "markdown",
   "metadata": {},
   "source": [
    "### Question 10 Boolean\n",
    "Using the dictionary in question 8, do the following:\n"
   ]
  },
  {
   "cell_type": "code",
   "execution_count": 1,
   "metadata": {},
   "outputs": [
    {
     "ename": "NameError",
     "evalue": "name 'zeo_ranger' is not defined",
     "output_type": "error",
     "traceback": [
      "\u001b[1;31m---------------------------------------------------------------------------\u001b[0m",
      "\u001b[1;31mNameError\u001b[0m                                 Traceback (most recent call last)",
      "\u001b[1;32m<ipython-input-1-48a3d430f1b3>\u001b[0m in \u001b[0;36m<module>\u001b[1;34m()\u001b[0m\n\u001b[0;32m      1\u001b[0m \u001b[1;31m# using the dictionary `rangers` check if the black ranger is 'Adam', and print the result\u001b[0m\u001b[1;33m\u001b[0m\u001b[1;33m\u001b[0m\u001b[0m\n\u001b[1;32m----> 2\u001b[1;33m \u001b[1;32mif\u001b[0m\u001b[1;33m(\u001b[0m\u001b[1;33m(\u001b[0m\u001b[0mzeo_ranger\u001b[0m\u001b[1;33m[\u001b[0m\u001b[1;34m'Adam'\u001b[0m\u001b[1;33m]\u001b[0m\u001b[1;33m)\u001b[0m \u001b[1;33m==\u001b[0m \u001b[1;34m'Black'\u001b[0m\u001b[1;33m)\u001b[0m\u001b[1;33m:\u001b[0m\u001b[1;33m\u001b[0m\u001b[0m\n\u001b[0m\u001b[0;32m      3\u001b[0m     \u001b[0mprint\u001b[0m\u001b[1;33m(\u001b[0m\u001b[1;34m\"Adam is the Black Ranger!\"\u001b[0m\u001b[1;33m)\u001b[0m\u001b[1;33m\u001b[0m\u001b[0m\n\u001b[0;32m      4\u001b[0m \u001b[1;32melse\u001b[0m\u001b[1;33m:\u001b[0m\u001b[1;33m\u001b[0m\u001b[0m\n\u001b[0;32m      5\u001b[0m     \u001b[0mprint\u001b[0m\u001b[1;33m(\u001b[0m\u001b[1;34m\"Adam is actually the %s Ranger\"\u001b[0m\u001b[1;33m,\u001b[0m \u001b[0mzeo_ranger\u001b[0m\u001b[1;33m[\u001b[0m\u001b[1;34m'Adam'\u001b[0m\u001b[1;33m]\u001b[0m\u001b[1;33m)\u001b[0m\u001b[1;33m\u001b[0m\u001b[0m\n",
      "\u001b[1;31mNameError\u001b[0m: name 'zeo_ranger' is not defined"
     ]
    }
   ],
   "source": [
    "# using the dictionary `rangers` check if the black ranger is 'Adam', and print the result\n",
    "if((zeo_ranger['Adam']) == 'Black'):\n",
    "    print(\"Adam is the Black Ranger!\")\n",
    "else:\n",
    "    print(\"Adam is actually the %s Ranger\", zeo_ranger['Adam'])\n",
    "\n",
    "# Check if the blue ranger is not Bobby\n",
    "if(zeo_ranger['Blue'] != 'Bobby'):\n",
    "    print(\"Bobby is not the Blue Ranger\")\n",
    "\n",
    "# What does the 2.0 == 2 return?\n",
    "# Answer: returns false since one is floating point and another is int number\n",
    "\n",
    "# What does 2 > 5 return?\n",
    "# Answer: returns false, since 2 < 5\n",
    "\n",
    "# What does 2 <= 1 return?\n",
    "# Answer: False, since 2 > 1\n",
    "\n",
    "\n",
    "\n"
   ]
  },
  {
   "cell_type": "markdown",
   "metadata": {},
   "source": [
    "That's it. You can complete this and add it into your GitHub repo, and send me a message on slack or submit it on omnivox.  See you in class."
   ]
  },
  {
   "cell_type": "code",
   "execution_count": null,
   "metadata": {},
   "outputs": [],
   "source": []
  },
  {
   "cell_type": "code",
   "execution_count": null,
   "metadata": {},
   "outputs": [],
   "source": []
  }
 ],
 "metadata": {
  "kernelspec": {
   "display_name": "Python 3",
   "language": "python",
   "name": "python3"
  },
  "language_info": {
   "codemirror_mode": {
    "name": "ipython",
    "version": 3
   },
   "file_extension": ".py",
   "mimetype": "text/x-python",
   "name": "python",
   "nbconvert_exporter": "python",
   "pygments_lexer": "ipython3",
   "version": "3.7.0"
  }
 },
 "nbformat": 4,
 "nbformat_minor": 1
}
