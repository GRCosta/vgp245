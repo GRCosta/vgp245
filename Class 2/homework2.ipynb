{
 "cells": [
  {
   "cell_type": "markdown",
   "metadata": {
    "collapsed": true
   },
   "source": [
    "# VGP 245 Assignment 2\n"
   ]
  },
  {
   "cell_type": "markdown",
   "metadata": {},
   "source": [
    "Question 1: Implement a function that sums a list of tuple paired numbers i.e coordinates (x,y) i.e. vector2 and sums it together into a single tuple. i.e. vector2Add([(1,1), (2,3), (3,3), (5,10)]) is (11,17)\n"
   ]
  },
  {
   "cell_type": "code",
   "execution_count": 24,
   "metadata": {},
   "outputs": [
    {
     "name": "stdout",
     "output_type": "stream",
     "text": [
      "(11, 17)\n"
     ]
    }
   ],
   "source": [
    "# a.\n",
    "def vector2Sum(list):\n",
    "    a = 0\n",
    "    b = 0\n",
    "    for e in list:\n",
    "        a = a + int(e[0])\n",
    "        b = b + int(e[1])\n",
    "    return (a, b)\n",
    "\n",
    "list1 = [(1,1), (2,3), (3,3), (5,10)]\n",
    "finalVector = vector2Sum(list1)\n",
    "\n",
    "print (finalVector)"
   ]
  },
  {
   "cell_type": "markdown",
   "metadata": {},
   "source": [
    "b. What can go wrong with the function? How do you check that the value in the parameter is correct?\n",
    "A: It will try to sum the value regardless of it's type, since the tuple can have elements of every type. To fix this, we can do a try-catch to make sure the element is from the proper type, otherwise it will ignore the value."
   ]
  },
  {
   "cell_type": "markdown",
   "metadata": {},
   "source": [
    "Question 2: Implement a function that checks if the age specified is 18 or above, and print a message whether or not you can vote, and if the age is above 65, return a special friendly message."
   ]
  },
  {
   "cell_type": "code",
   "execution_count": 2,
   "metadata": {},
   "outputs": [
    {
     "name": "stdout",
     "output_type": "stream",
     "text": [
      "Please enter your age: 35\n",
      "Don't forget to vote on Oct. 20th.\n"
     ]
    }
   ],
   "source": [
    "# i. can_vote(18) prints the message \"Don't forget to vote on Oct. 20th.\"  \n",
    "# ii. can_vote(10) prints you have \"8 more years before you can vote.\"\n",
    "# iii. can_vote(65) prints \"Don't forget to vote on Oct. 20th.  You're strong and awesome!\n",
    "\n",
    "def check_age(value):\n",
    "    \n",
    "    if(value > 18 and value < 65):\n",
    "        print(\"Don't forget to vote on Oct. 20th.\")\n",
    "    elif (value > 65):\n",
    "        print(\"Don't forget to vote on Oct. 20th. You're strong and awesome!\")\n",
    "    else:\n",
    "        print(\"You have a few more years before you can vote.\")\n",
    "\n",
    "age = int(input(\"Please enter your age: \"))\n",
    "check_age(age)\n",
    "\n",
    "   "
   ]
  },
  {
   "cell_type": "markdown",
   "metadata": {},
   "source": [
    "Question 3. Implement a increment function that takes a number and increments it by 1 using a default argument, so that user can replace that increment unit to with a different number.  Use that increment function in a for loop to show at least 10 increments for each case."
   ]
  },
  {
   "cell_type": "code",
   "execution_count": 9,
   "metadata": {},
   "outputs": [
    {
     "name": "stdout",
     "output_type": "stream",
     "text": [
      "3\n",
      "5\n",
      "----------\n",
      "\n",
      "\n",
      "Initial value:  3\n",
      "Count =  0\n",
      "7\n",
      "Count =  1\n",
      "11\n",
      "Count =  2\n",
      "15\n",
      "Count =  3\n",
      "19\n",
      "Count =  4\n",
      "23\n",
      "Count =  5\n",
      "27\n",
      "Count =  6\n",
      "31\n",
      "Count =  7\n",
      "35\n",
      "Count =  8\n",
      "39\n",
      "Count =  9\n",
      "43\n"
     ]
    }
   ],
   "source": [
    "# i. increment(3) returns 3\n",
    "# ii. increment(2, 2) returns 4\n",
    "\n",
    "def increment_function(value, other_value = 1):\n",
    "    value = value + other_value\n",
    "    print(value)\n",
    "    return value\n",
    "    \n",
    "increment_function(2)\n",
    "increment_function(2, 3)\n",
    "\n",
    "print('-'*10)\n",
    "print(\"\\n\")\n",
    "\n",
    "count = 0\n",
    "value = 3\n",
    "print (\"Initial value: \", value)\n",
    "while count != 10:\n",
    "    print(\"Count = \", count)\n",
    "    value = increment_function(value, 4)\n",
    "    count += 1"
   ]
  },
  {
   "cell_type": "markdown",
   "metadata": {},
   "source": [
    "Question 4: Create sets using the of the following information:\n",
    "\n",
    "SSJ: Goku, Vegeta, Gohan, Gohan, Trunks, Broly\n",
    "\n",
    "Sayian: Goku, Vegeta, Pan, Nappa, Gohan, Trunks, Broly\n",
    "\n",
    "Human: Krillian, Yamcha, Tien, Chichi, Bulma, Gohan, Trunks, Pan\n",
    "\n",
    "Finding the differences and intersects between the sets using the set methods:"
   ]
  },
  {
   "cell_type": "code",
   "execution_count": 11,
   "metadata": {},
   "outputs": [
    {
     "name": "stdout",
     "output_type": "stream",
     "text": [
      "{'Goten'}\n",
      "{'Trunks', 'Pan', 'Gohan'}\n",
      "{'Trunks', 'Gohan'}\n",
      "{'Trunks', 'Pan', 'Gohan'}\n"
     ]
    }
   ],
   "source": [
    "# Creating the Sets:\n",
    "SSJ = set([\"Goku\", \"Vegeta\", \"Gohan\", \"Goten\", \"Trunks\", \"Broly\"])\n",
    "\n",
    "Sayian = set([ \"Goku\", \"Vegeta\", \"Pan\", \"Nappa\", \"Gohan\", \"Trunks\", \"Broly\"])\n",
    "\n",
    "Human = set([\"Krillin\", \"Yamcha\", \"Tien\", \"Chichi\", \"Bulma\", \"Gohan\", \"Trunks\", \"Pan\"]) \n",
    "\n",
    "# a. Find the elements that are only in \"SSJ\" set and not in \"Sayian\" set\n",
    "print (SSJ.difference(Sayian))\n",
    "\n",
    "# b. Find the elements that are in the \"Human\" set and \"Sayian\" set\n",
    "print(Human.intersection(Sayian))\n",
    "\n",
    "# c. Find the elements that are in the \"SSJ\" set and \"Human\" set\n",
    "print(SSJ.intersection(Human))\n",
    "\n",
    "# d. Find the elements that are in both \"Sayian\" set and the \"Human\" set.\n",
    "print(Sayian.intersection(Human))"
   ]
  },
  {
   "cell_type": "markdown",
   "metadata": {},
   "source": [
    "Question 5: What is the type return from the execution of the following functions: "
   ]
  },
  {
   "cell_type": "code",
   "execution_count": 14,
   "metadata": {},
   "outputs": [
    {
     "name": "stdout",
     "output_type": "stream",
     "text": [
      "7\n",
      "3.2\n",
      "kamehameha\n",
      "Welcome Master Roshi to Namek, have a nice day!\n"
     ]
    },
    {
     "data": {
      "text/plain": [
       "\"IT'S OVER 9000!\""
      ]
     },
     "execution_count": 14,
     "metadata": {},
     "output_type": "execute_result"
    }
   ],
   "source": [
    "def sum(left, right): \n",
    "    return left + right\n",
    "\n",
    "print(sum(3,4))\n",
    "print(sum(1.1, 2.1))\n",
    "print(sum('kame', 'hameha'))\n",
    "\n",
    "def print_greetings(name):\n",
    "    print(f'Welcome {name} to Namek, have a nice day!')\n",
    "\n",
    "print_greetings('Master Roshi')\n",
    "    \n",
    "def capitalize(message):\n",
    "    return message.upper()\n",
    "\n",
    "capitalize(\"It's over 9000!\")\n",
    "\n",
    "# a. sum(3,4)\n",
    "# b. sum(1.1, 2.1)\n",
    "# c. sum('kame', 'hameha')\n",
    "# d. print_greetings('Master Roshi')\n",
    "# e. capitalize(\"It's over 9000!\")"
   ]
  },
  {
   "cell_type": "markdown",
   "metadata": {},
   "source": [
    "Question 6: What is tuple unpacking and show an example of it.\n"
   ]
  },
  {
   "cell_type": "code",
   "execution_count": null,
   "metadata": {},
   "outputs": [],
   "source": [
    "# Tuple unpacking is also called multiple assignment. It's the association of values to each element of the tuple.\n",
    "\n",
    "x, y = 5, 10\n",
    "# or\n",
    "(x, y) = (5, 10)"
   ]
  },
  {
   "cell_type": "markdown",
   "metadata": {},
   "source": [
    "Question 7: Make the following function throw an exception when the count is 0"
   ]
  },
  {
   "cell_type": "code",
   "execution_count": 17,
   "metadata": {},
   "outputs": [
    {
     "name": "stdout",
     "output_type": "stream",
     "text": [
      "No more beans!!\n",
      "You finished the meal.\n"
     ]
    }
   ],
   "source": [
    "senzu_bean_count = 2\n",
    "\n",
    "# a. implement throw / raise exception\n",
    "def eat_senzu_bean():\n",
    "    senzu_bean_count -= 1\n",
    "    print('consuming senzu bean...')\n",
    "    raise Exception()\n",
    "\n",
    "try:\n",
    "    eat_senzu_bean()\n",
    "except Exception:\n",
    "    print(\"No more beans!!\")\n",
    "finally:\n",
    "    print(\"You finished the meal.\")\n",
    "\n",
    "# b. Handle the exception, so that it shows a useful error and continues gracefully\n"
   ]
  },
  {
   "cell_type": "markdown",
   "metadata": {},
   "source": [
    "Question 8:  What is finally used for?\n"
   ]
  },
  {
   "cell_type": "markdown",
   "metadata": {},
   "source": [
    "The keyword \"finally\" makes sure the following section will always be called. It's used to terminate a process that hang-up in an error"
   ]
  },
  {
   "cell_type": "markdown",
   "metadata": {},
   "source": [
    "Question 9: How do you create an empty set? "
   ]
  },
  {
   "cell_type": "markdown",
   "metadata": {},
   "source": [
    "s = set()"
   ]
  },
  {
   "cell_type": "markdown",
   "metadata": {},
   "source": [
    "Question 10: What is the difference between a set and a dictionary? and what are their similarities?"
   ]
  },
  {
   "cell_type": "markdown",
   "metadata": {},
   "source": [
    "A set is like a dict with keys but no values, and they're both implemented using a hash table. Both cannot accept repeated keys, but the set can work without associated values."
   ]
  }
 ],
 "metadata": {
  "kernelspec": {
   "display_name": "Python 3",
   "language": "python",
   "name": "python3"
  },
  "language_info": {
   "codemirror_mode": {
    "name": "ipython",
    "version": 3
   },
   "file_extension": ".py",
   "mimetype": "text/x-python",
   "name": "python",
   "nbconvert_exporter": "python",
   "pygments_lexer": "ipython3",
   "version": "3.7.0"
  }
 },
 "nbformat": 4,
 "nbformat_minor": 1
}
