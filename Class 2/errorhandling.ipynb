{
 "cells": [
  {
   "cell_type": "markdown",
   "metadata": {
    "collapsed": true
   },
   "source": [
    "# VGP 245\n",
    "## Errors\n",
    "\n",
    "In python programming there are three types of error that can occur.  It’s useful to recognize the different error types so they can be corrected more easily:\n",
    "\n",
    "+ Syntax Error – occurs when the interpreter encounters code that does not conform to the Python language rules.  For examples, a missing quote mark around a string.  The interpreter halts and reports the error without executing the program.\n",
    "+ Runtime Error – occurs during execution of the program, at the time when the program runs.  For example. When a variable name is later mis-typed so that variable cannot be recognized.  The interpreter runs the program but halts at the error and reports the nature of the error as an “Exception”.\n",
    "+ Semantic Error – occurs when the program performs unexpectedly. For example, when order precedence has not been specified in an expression.  The interpreter runs the program and does not report an error.\n",
    "\n",
    "Correcting syntax and runtime errors is straightforward, as the interpreter reports where the error occurred or the nature of the error type, but semantic errors require code examination\n"
   ]
  },
  {
   "cell_type": "code",
   "execution_count": 2,
   "metadata": {},
   "outputs": [
    {
     "ename": "Exception",
     "evalue": "Something wrong is not right!",
     "output_type": "error",
     "traceback": [
      "\u001b[1;31m---------------------------------------------------------------------------\u001b[0m",
      "\u001b[1;31mException\u001b[0m                                 Traceback (most recent call last)",
      "\u001b[1;32m<ipython-input-2-cd675458db5b>\u001b[0m in \u001b[0;36m<module>\u001b[1;34m()\u001b[0m\n\u001b[0;32m      2\u001b[0m     \u001b[1;32mraise\u001b[0m \u001b[0mException\u001b[0m\u001b[1;33m(\u001b[0m\u001b[1;34m\"Something wrong is not right!\"\u001b[0m\u001b[1;33m)\u001b[0m\u001b[1;33m\u001b[0m\u001b[0m\n\u001b[0;32m      3\u001b[0m \u001b[1;33m\u001b[0m\u001b[0m\n\u001b[1;32m----> 4\u001b[1;33m \u001b[0mthis_is_broken\u001b[0m\u001b[1;33m(\u001b[0m\u001b[1;33m)\u001b[0m\u001b[1;33m\u001b[0m\u001b[0m\n\u001b[0m",
      "\u001b[1;32m<ipython-input-2-cd675458db5b>\u001b[0m in \u001b[0;36mthis_is_broken\u001b[1;34m()\u001b[0m\n\u001b[0;32m      1\u001b[0m \u001b[1;32mdef\u001b[0m \u001b[0mthis_is_broken\u001b[0m\u001b[1;33m(\u001b[0m\u001b[1;33m)\u001b[0m\u001b[1;33m:\u001b[0m\u001b[1;33m\u001b[0m\u001b[0m\n\u001b[1;32m----> 2\u001b[1;33m     \u001b[1;32mraise\u001b[0m \u001b[0mException\u001b[0m\u001b[1;33m(\u001b[0m\u001b[1;34m\"Something wrong is not right!\"\u001b[0m\u001b[1;33m)\u001b[0m\u001b[1;33m\u001b[0m\u001b[0m\n\u001b[0m\u001b[0;32m      3\u001b[0m \u001b[1;33m\u001b[0m\u001b[0m\n\u001b[0;32m      4\u001b[0m \u001b[0mthis_is_broken\u001b[0m\u001b[1;33m(\u001b[0m\u001b[1;33m)\u001b[0m\u001b[1;33m\u001b[0m\u001b[0m\n",
      "\u001b[1;31mException\u001b[0m: Something wrong is not right!"
     ]
    }
   ],
   "source": [
    "def this_is_broken():\n",
    "    raise Exception(\"Something wrong is not right!\")\n",
    "    \n",
    "this_is_broken()"
   ]
  },
  {
   "cell_type": "code",
   "execution_count": 3,
   "metadata": {},
   "outputs": [
    {
     "ename": "ValueError",
     "evalue": "This number should not be used!",
     "output_type": "error",
     "traceback": [
      "\u001b[1;31m---------------------------------------------------------------------------\u001b[0m",
      "\u001b[1;31mValueError\u001b[0m                                Traceback (most recent call last)",
      "\u001b[1;32m<ipython-input-3-1171b3543350>\u001b[0m in \u001b[0;36m<module>\u001b[1;34m()\u001b[0m\n\u001b[0;32m      2\u001b[0m     \u001b[1;32mraise\u001b[0m \u001b[0mValueError\u001b[0m\u001b[1;33m(\u001b[0m\u001b[1;34m\"This number should not be used!\"\u001b[0m\u001b[1;33m)\u001b[0m\u001b[1;33m\u001b[0m\u001b[0m\n\u001b[0;32m      3\u001b[0m \u001b[1;33m\u001b[0m\u001b[0m\n\u001b[1;32m----> 4\u001b[1;33m \u001b[0mthis_is_wrong\u001b[0m\u001b[1;33m(\u001b[0m\u001b[1;33m)\u001b[0m\u001b[1;33m\u001b[0m\u001b[0m\n\u001b[0m",
      "\u001b[1;32m<ipython-input-3-1171b3543350>\u001b[0m in \u001b[0;36mthis_is_wrong\u001b[1;34m()\u001b[0m\n\u001b[0;32m      1\u001b[0m \u001b[1;32mdef\u001b[0m \u001b[0mthis_is_wrong\u001b[0m\u001b[1;33m(\u001b[0m\u001b[1;33m)\u001b[0m\u001b[1;33m:\u001b[0m\u001b[1;33m\u001b[0m\u001b[0m\n\u001b[1;32m----> 2\u001b[1;33m     \u001b[1;32mraise\u001b[0m \u001b[0mValueError\u001b[0m\u001b[1;33m(\u001b[0m\u001b[1;34m\"This number should not be used!\"\u001b[0m\u001b[1;33m)\u001b[0m\u001b[1;33m\u001b[0m\u001b[0m\n\u001b[0m\u001b[0;32m      3\u001b[0m \u001b[1;33m\u001b[0m\u001b[0m\n\u001b[0;32m      4\u001b[0m \u001b[0mthis_is_wrong\u001b[0m\u001b[1;33m(\u001b[0m\u001b[1;33m)\u001b[0m\u001b[1;33m\u001b[0m\u001b[0m\n",
      "\u001b[1;31mValueError\u001b[0m: This number should not be used!"
     ]
    }
   ],
   "source": [
    "def this_is_wrong():\n",
    "    raise ValueError(\"This number should not be used!\")\n",
    "    \n",
    "this_is_wrong()"
   ]
  },
  {
   "cell_type": "code",
   "execution_count": 7,
   "metadata": {},
   "outputs": [
    {
     "name": "stdout",
     "output_type": "stream",
     "text": [
      "An error has ocurred and you must DEAL WITH IT!\n"
     ]
    }
   ],
   "source": [
    "def this_is_also_broken():\n",
    "    raise Exception()\n",
    "    \n",
    "try:\n",
    "    this_is_also_broken()\n",
    "except Exception:\n",
    "    print(\"An error has ocurred and you must DEAL WITH IT!\")"
   ]
  },
  {
   "cell_type": "code",
   "execution_count": 8,
   "metadata": {},
   "outputs": [
    {
     "name": "stdout",
     "output_type": "stream",
     "text": [
      "An error has ocurred but I'll continue\n"
     ]
    }
   ],
   "source": [
    "x = 0\n",
    "y = 1\n",
    "\n",
    "try:\n",
    "    y/x\n",
    "except Exception :\n",
    "    print(\"An error has ocurred but I'll continue\")"
   ]
  },
  {
   "cell_type": "code",
   "execution_count": 9,
   "metadata": {},
   "outputs": [
    {
     "name": "stdout",
     "output_type": "stream",
     "text": [
      "An error has ocurred but I'll continue\n",
      "Other steps needs to run!\n"
     ]
    }
   ],
   "source": [
    "x = 0\n",
    "y = 1\n",
    "\n",
    "try:\n",
    "    y/x\n",
    "except Exception :\n",
    "    print(\"An error has ocurred but I'll continue\")\n",
    "finally:\n",
    "    print(\"Other steps needs to run!\")"
   ]
  },
  {
   "cell_type": "markdown",
   "metadata": {},
   "source": [
    "The keyword \"finally\" makes sure the following section will always be called. It's used to terminate a process that hang-up in an error"
   ]
  }
 ],
 "metadata": {
  "kernelspec": {
   "display_name": "Python 3",
   "language": "python",
   "name": "python3"
  },
  "language_info": {
   "codemirror_mode": {
    "name": "ipython",
    "version": 3
   },
   "file_extension": ".py",
   "mimetype": "text/x-python",
   "name": "python",
   "nbconvert_exporter": "python",
   "pygments_lexer": "ipython3",
   "version": "3.7.0"
  }
 },
 "nbformat": 4,
 "nbformat_minor": 1
}
