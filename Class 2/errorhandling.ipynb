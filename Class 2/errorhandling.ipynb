{
 "cells": [
  {
   "cell_type": "markdown",
   "metadata": {
    "collapsed": true
   },
   "source": [
    "# VGP 245\n",
    "## Errors\n",
    "\n",
    "In python programming there are three types of error that can occur.  It’s useful to recognize the different error types so they can be corrected more easily:\n",
    "\n",
    "+ Syntax Error – occurs when the interpreter encounters code that does not conform to the Python language rules.  For examples, a missing quote mark around a string.  The interpreter halts and reports the error without executing the program.\n",
    "+ Runtime Error – occurs during execution of the program, at the time when the program runs.  For example. When a variable name is later mis-typed so that variable cannot be recognized.  The interpreter runs the program but halts at the error and reports the nature of the error as an “Exception”.\n",
    "+ Semantic Error – occurs when the program performs unexpectedly. For example, when order precedence has not been specified in an expression.  The interpreter runs the program and does not report an error.\n",
    "\n",
    "Correcting syntax and runtime errors is straightforward, as the interpreter reports where the error occurred or the nature of the error type, but semantic errors require code examination\n"
   ]
  },
  {
   "cell_type": "code",
   "execution_count": null,
   "metadata": {},
   "outputs": [],
   "source": []
  }
 ],
 "metadata": {
  "kernelspec": {
   "display_name": "Python 2",
   "language": "python",
   "name": "python2"
  },
  "language_info": {
   "codemirror_mode": {
    "name": "ipython",
    "version": 2
   },
   "file_extension": ".py",
   "mimetype": "text/x-python",
   "name": "python",
   "nbconvert_exporter": "python",
   "pygments_lexer": "ipython2",
   "version": "2.7.6"
  }
 },
 "nbformat": 4,
 "nbformat_minor": 0
}
