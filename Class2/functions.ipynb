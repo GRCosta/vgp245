{
 "cells": [
  {
   "cell_type": "raw",
   "metadata": {
    "collapsed": true
   },
   "source": [
    "# VGP 245\n",
    "## Class 2 - Functions\n",
    "\n",
    "### Introduction\n",
    "\n",
    "\n",
    "\n",
    "\n",
    "\n"
   ]
  },
  {
   "cell_type": "code",
   "execution_count": 12,
   "metadata": {},
   "outputs": [
    {
     "name": "stdout",
     "output_type": "stream",
     "text": [
      "----------\n",
      "Random Stuff\n",
      "\n",
      "\n",
      "----------\n",
      "9\n",
      "\n",
      "\n",
      "----------\n",
      "78.539\n",
      "\n",
      "\n",
      "----------\n",
      "78.539\n",
      "\n",
      "\n",
      "----------\n",
      "10\n",
      "48\n",
      "172\n"
     ]
    }
   ],
   "source": [
    "#\n",
    "# Example file for working with functions\n",
    "#\n",
    "\n",
    "# define a basic function\n",
    "print('-'*10)\n",
    "def print_stuff():\n",
    "    print(\"Random Stuff\")\n",
    "\n",
    "print_stuff()\n",
    "print(\"\\n\")\n",
    "\n",
    "    \n",
    "# function that takes arguments\n",
    "print('-'*10)\n",
    "def sum(left, right):\n",
    "    return left + right\n",
    "\n",
    "result = sum(4, 5)\n",
    "print(result)\n",
    "print(\"\\n\")\n",
    "\n",
    "# function that returns a value\n",
    "print('-'*10)\n",
    "def area_of_circle(radius, pi):\n",
    "    return radius*radius*pi\n",
    "\n",
    "print(area_of_circle(5, 3.14156))\n",
    "print(\"\\n\")\n",
    "\n",
    "# function with default value for an argument\n",
    "print('-'*10)\n",
    "def area_of_circle(radius, pi = 3.14156):\n",
    "    return radius*radius*pi\n",
    "\n",
    "print(area_of_circle(5))\n",
    "print(\"\\n\")\n",
    "\n",
    "#function with variable number of arguments\n",
    "print('-'*10)\n",
    "def multi_add(*args):\n",
    "    result = 0\n",
    "    for x in args:\n",
    "        result += x\n",
    "    return result\n",
    "\n",
    "print(multi_add(1, 2, 3, 4))\n",
    "print(multi_add(1, 5, 42))\n",
    "print(multi_add(25, 10, 13, 23, 78, 23))"
   ]
  },
  {
   "cell_type": "code",
   "execution_count": null,
   "metadata": {},
   "outputs": [],
   "source": []
  }
 ],
 "metadata": {
  "kernelspec": {
   "display_name": "Python 3",
   "language": "python",
   "name": "python3"
  },
  "language_info": {
   "codemirror_mode": {
    "name": "ipython",
    "version": 3
   },
   "file_extension": ".py",
   "mimetype": "text/x-python",
   "name": "python",
   "nbconvert_exporter": "python",
   "pygments_lexer": "ipython3",
   "version": "3.7.0"
  }
 },
 "nbformat": 4,
 "nbformat_minor": 1
}
